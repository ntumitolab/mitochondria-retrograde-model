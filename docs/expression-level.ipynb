{
 "cells": [
  {
   "cell_type": "markdown",
   "metadata": {},
   "source": [
    "# Expression Level of RTG proteins\n",
    "\n",
    "- Data Source: https://yeastgfp.yeastgenome.org/\n",
    "- Accessed on: 2021/05/07\n",
    "\n",
    "## Rtg1\n",
    "\n",
    "![](./img/expressionlevel/Rtg1GFP.png)\n",
    "\n",
    "\n",
    "## Rtg2\n",
    "![](./img/expressionlevel/Rtg2GFP.png)\n",
    "\n",
    "## Rtg3\n",
    "![](./img/expressionlevel/Rtg3GFP.png)\n",
    "\n",
    "## Bmh1\n",
    "![](./img/expressionlevel/Bmh1GFP.png)\n",
    "\n",
    "## Bmh2\n",
    "![](./img/expressionlevel/Bmh2GFP.png)\n",
    "\n",
    "## Mks1\n",
    "![](./img/expressionlevel/Mks1GFP.png)\n",
    "\n",
    "\n",
    "## Summary\n",
    "\n",
    "|Protein Name|molecules/cell|\n",
    "|---|---|\n",
    "|Rtg1p|2190|\n",
    "|Rtg2p|3260|\n",
    "|Rtg3p|1050|\n",
    "|Bmh1p|158000|\n",
    "|Bmh2p|47600|\n",
    "|Mks1p|*not visualized*|"
   ]
  },
  {
   "cell_type": "code",
   "execution_count": null,
   "metadata": {},
   "outputs": [],
   "source": [
    "using Plots\n",
    "\n",
    "expressionlevels = (\n",
    "    Rtg1p=2190,\n",
    "    Rtg2p=3260,\n",
    "    Rtg3p=1050,\n",
    "    Bmh1p=158000,\n",
    "    Bmh2p=47600\n",
    ")\n",
    "\n",
    "bar(collect(expressionlevels), color=:grey, framestyle=:box,\n",
    "    yscale=:log10, ylabel=\"Number of Molecules / Cell\", minorgrid=true,\n",
    "    xticks=(1:5, string.(keys(expressionlevels))), xlabel=\"RTG-related proteins\",\n",
    "    legend=false)\n"
   ]
  }
 ],
 "metadata": {
  "kernelspec": {
   "display_name": "Julia 1.9.3",
   "language": "julia",
   "name": "julia-1.9"
  },
  "language_info": {
   "file_extension": ".jl",
   "mimetype": "application/julia",
   "name": "julia",
   "version": "1.9.3"
  },
  "orig_nbformat": 4
 },
 "nbformat": 4,
 "nbformat_minor": 2
}
