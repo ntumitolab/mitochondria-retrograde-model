{
 "cells": [
  {
   "cell_type": "markdown",
   "metadata": {},
   "source": [
    "# Effects of different protein expression levels"
   ]
  },
  {
   "cell_type": "code",
   "execution_count": null,
   "metadata": {},
   "outputs": [],
   "source": [
    "using ModelingToolkit\n",
    "using DifferentialEquations\n",
    "using Plots\n",
    "\n",
    "using RetroSignalModel\n",
    "using RetroSignalModel: t\n",
    "import RetroSignalModel as rs\n"
   ]
  },
  {
   "cell_type": "code",
   "execution_count": null,
   "metadata": {},
   "outputs": [],
   "source": [
    "# Make positive sine wave\n",
    "function make_pos_sine(; amplitude=1, frequency=1, phase=0)\n",
    "    return t -> 0.5 * amplitude * (sinpi(2 * frequency * t + phase) + 1)\n",
    "end\n",
    "\n",
    "# Make square wave\n",
    "function make_square_wave(; hi=1, lo=0, duty=(0.25, 0.75))\n",
    "    return t -> ifelse(duty[1] <= t <= duty[2], hi, lo)\n",
    "end\n"
   ]
  },
  {
   "cell_type": "code",
   "execution_count": null,
   "metadata": {},
   "outputs": [],
   "source": [
    "params = load_parameters(\"solution_rtgM4.csv\")[1]\n",
    "\n",
    "tend = 500.0\n",
    "edges = (125.0, 375.0)\n",
    "\n",
    "signal(t) = edges[begin] <= t <= edges[end] ? 1.0 : 0.0\n",
    "@register_symbolic signal(t)\n",
    "\n",
    "@named sys = RtgMTK(signal)\n"
   ]
  },
  {
   "cell_type": "code",
   "execution_count": null,
   "metadata": {},
   "outputs": [],
   "source": [
    "function plot_varying_protein(sys, params, protein, protein_level, observed;\n",
    "    multipliers=(0.1, 0.5, 5.0, 10.0), figsize=(800, 600), kwargs...)\n",
    "\n",
    "    u0 = rs.resting_u0(sys)\n",
    "    ps = copy(params)\n",
    "    ps[protein] = protein_level\n",
    "    prob = ODEProblem(sys, u0, tend, ps)\n",
    "    sol = solve(prob, tstops=edges)\n",
    "\n",
    "    psol = plot(sol, vars=[observed]; linewidth=3, legend=:topright, label=\"1X\",\n",
    "        title=string(observed, \" with varying \", protein),\n",
    "        ylabel=string(\"Concentration of \", observed))\n",
    "\n",
    "    for μ in multipliers\n",
    "        ps[protein] = μ * protein_level\n",
    "        prob = ODEProblem(sys, u0, tend, ps)\n",
    "        sol = solve(prob, tstops=edges)\n",
    "        plot!(psol, sol, vars=[observed]; linewidth=1, legend=:topright, label=\"$(μ)X\", xlabel=\"\", kwargs...)\n",
    "    end\n",
    "\n",
    "    #Plot signal\n",
    "    psig = plot(sol, vars=[rs.s], label=\"Damage\", xlabel=\"Time\", ylabel=\"Signal\", line=(:black, 2))\n",
    "\n",
    "    plot(psol, psig, layout=grid(2, 1, heights=[0.85, 0.15]), size=figsize)\n",
    "end\n"
   ]
  },
  {
   "cell_type": "markdown",
   "metadata": {},
   "source": [
    "## Simulations\n",
    "\n",
    "The product of the following\n",
    "- Waveforms: Square (125-375 sec duty cycle)\n",
    "- Parameter to change: 5 Protein levels\n",
    "- Protein amount: `(0.1, 0.5, 5.0, 10.0)` times of reference levels.\n",
    "\n",
    "End point: ratio of nucleus to cytosol concentrations of Rtg1 and Rtg3"
   ]
  },
  {
   "cell_type": "code",
   "execution_count": null,
   "metadata": {},
   "outputs": [],
   "source": [
    "plot_varying_protein(sys, params, rs.ΣRtg1, rs.STRESSED[rs.ΣRtg1], rs.ΣRtg1_n)\n"
   ]
  },
  {
   "cell_type": "code",
   "execution_count": null,
   "metadata": {},
   "outputs": [],
   "source": [
    "plot_varying_protein(sys, params, rs.ΣRtg2, rs.STRESSED[rs.ΣRtg2], rs.ΣRtg1_n)\n"
   ]
  },
  {
   "cell_type": "code",
   "execution_count": null,
   "metadata": {},
   "outputs": [],
   "source": [
    "plot_varying_protein(sys, params, rs.ΣRtg3, rs.STRESSED[rs.ΣRtg3], rs.ΣRtg1_n)\n"
   ]
  },
  {
   "cell_type": "code",
   "execution_count": null,
   "metadata": {},
   "outputs": [],
   "source": [
    "plot_varying_protein(sys, params, rs.ΣBmh, rs.STRESSED[rs.ΣBmh], rs.ΣRtg1_n)\n"
   ]
  },
  {
   "cell_type": "code",
   "execution_count": null,
   "metadata": {},
   "outputs": [],
   "source": [
    "plot_varying_protein(sys, params, rs.ΣMks, rs.STRESSED[rs.ΣMks], rs.ΣRtg1_n)\n"
   ]
  },
  {
   "cell_type": "code",
   "execution_count": null,
   "metadata": {},
   "outputs": [],
   "source": [
    "plot_varying_protein(sys, params, rs.ΣRtg1, rs.STRESSED[rs.ΣRtg1], rs.Rtg3_n)\n"
   ]
  },
  {
   "cell_type": "code",
   "execution_count": null,
   "metadata": {},
   "outputs": [],
   "source": [
    "plot_varying_protein(sys, params, rs.ΣRtg2, rs.STRESSED[rs.ΣRtg2], rs.Rtg3_n)\n"
   ]
  },
  {
   "cell_type": "code",
   "execution_count": null,
   "metadata": {},
   "outputs": [],
   "source": [
    "plot_varying_protein(sys, params, rs.ΣRtg3, rs.STRESSED[rs.ΣRtg3], rs.Rtg3_n)\n"
   ]
  },
  {
   "cell_type": "code",
   "execution_count": null,
   "metadata": {},
   "outputs": [],
   "source": [
    "plot_varying_protein(sys, params, rs.ΣBmh, rs.STRESSED[rs.ΣBmh], rs.Rtg3_n)\n"
   ]
  },
  {
   "cell_type": "code",
   "execution_count": null,
   "metadata": {},
   "outputs": [],
   "source": [
    "plot_varying_protein(sys, params, rs.ΣMks, rs.STRESSED[rs.ΣMks], rs.Rtg3_n)\n"
   ]
  }
 ],
 "metadata": {
  "kernelspec": {
   "display_name": "Julia 1.9.3",
   "language": "julia",
   "name": "julia-1.9"
  },
  "language_info": {
   "file_extension": ".jl",
   "mimetype": "application/julia",
   "name": "julia",
   "version": "1.9.3"
  }
 },
 "nbformat": 4,
 "nbformat_minor": 4
}
