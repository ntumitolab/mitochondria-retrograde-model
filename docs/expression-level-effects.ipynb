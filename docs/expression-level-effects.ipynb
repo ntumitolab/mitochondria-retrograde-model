{
 "cells": [
  {
   "cell_type": "markdown",
   "metadata": {},
   "source": [
    "# Effects of different protein expression levels"
   ]
  },
  {
   "cell_type": "code",
   "execution_count": null,
   "metadata": {},
   "outputs": [],
   "source": [
    "using RetroSignalModel\n",
    "import RetroSignalModel as rs\n",
    "using ModelingToolkit\n",
    "using Plots\n",
    "using DifferentialEquations"
   ]
  },
  {
   "cell_type": "code",
   "execution_count": null,
   "metadata": {},
   "outputs": [],
   "source": [
    "# Make positive sine wave\n",
    "function make_pos_sine(; amplitude=1, frequency=1, phase=0)\n",
    "    return t -> 0.5 * amplitude * (sinpi(2 * frequency * t + phase) + 1)\n",
    "end\n",
    "\n",
    "plot(make_pos_sine(), 0, 1, label=\"Positive Sine\")"
   ]
  },
  {
   "cell_type": "code",
   "execution_count": null,
   "metadata": {},
   "outputs": [],
   "source": [
    "sig = make_pos_sine(frequency=0.025, phase=3/4)\n",
    "@named sys = RtgMTK(sig)"
   ]
  },
  {
   "cell_type": "code",
   "execution_count": null,
   "metadata": {},
   "outputs": [],
   "source": [
    "params = load_parameters(\"solution_rtgM4.csv\")[1]"
   ]
  },
  {
   "cell_type": "code",
   "execution_count": null,
   "metadata": {},
   "outputs": [],
   "source": [
    "u0 = rs.resting_u0(sys)\n",
    "tspan = (0.0, 500.0)\n",
    "prob = ODEProblem(sys, u0, tspan, params)"
   ]
  },
  {
   "cell_type": "code",
   "execution_count": null,
   "metadata": {},
   "outputs": [],
   "source": [
    "sol = solve(prob)"
   ]
  },
  {
   "cell_type": "code",
   "execution_count": null,
   "metadata": {},
   "outputs": [],
   "source": [
    "plot(sol, vars=(rs.s), xlims=())"
   ]
  },
  {
   "cell_type": "markdown",
   "metadata": {},
   "source": [
    "## Simulations\n",
    "\n",
    "The product of the following\n",
    "- Waveforms: Square (125-375 sec duty cycle)\n",
    "- Parameter to change: 5 Protein levels\n",
    "- Protein amount: `[0.001,0.01,0.1,0.2,0.5,1.,2.,4. ,8., 16.,50.,100.]` x of original levels.\n",
    "\n",
    "End point: ratio of nucleus to cytosol concentrations of Rtg1 and Rtg3"
   ]
  },
  {
   "cell_type": "markdown",
   "metadata": {},
   "source": []
  }
 ],
 "metadata": {
  "kernelspec": {
   "display_name": "Julia 1.7.2",
   "language": "julia",
   "name": "julia-1.7"
  },
  "language_info": {
   "file_extension": ".jl",
   "mimetype": "application/julia",
   "name": "julia",
   "version": "1.7.2"
  },
  "orig_nbformat": 4
 },
 "nbformat": 4,
 "nbformat_minor": 2
}
