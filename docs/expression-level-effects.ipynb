{
 "cells": [
  {
   "cell_type": "markdown",
   "metadata": {},
   "source": [
    "# Effects of different protein expression levels"
   ]
  },
  {
   "cell_type": "code",
   "execution_count": null,
   "metadata": {},
   "outputs": [],
   "source": [
    "using RetroSignalModel\n",
    "import RetroSignalModel as rs\n",
    "using ModelingToolkit\n",
    "using Plots\n",
    "using DifferentialEquations"
   ]
  },
  {
   "cell_type": "code",
   "execution_count": null,
   "metadata": {},
   "outputs": [],
   "source": [
    "# Make positive sine wave\n",
    "function make_pos_sine(; amplitude=1, frequency=1, phase=0)\n",
    "    return t -> 0.5 * amplitude * (sinpi(2 * frequency * t + phase) + 1)\n",
    "end\n",
    "\n",
    "# Make square wave\n",
    "function make_square_wave(; hi=1, lo=0, duty=(0.25, 0.75))\n",
    "    return t -> ifelse(duty[1] <= t <= duty[2], hi, lo)\n",
    "end"
   ]
  },
  {
   "cell_type": "code",
   "execution_count": null,
   "metadata": {},
   "outputs": [],
   "source": [
    "plot([make_pos_sine(), make_square_wave()], 0, 1, label=[\"Positive Sine\" \"Square wave\"])"
   ]
  },
  {
   "cell_type": "code",
   "execution_count": null,
   "metadata": {},
   "outputs": [],
   "source": [
    "params = load_parameters(\"solution_rtgM4.csv\")[1]"
   ]
  },
  {
   "cell_type": "code",
   "execution_count": null,
   "metadata": {},
   "outputs": [],
   "source": [
    "tend=500.0\n",
    "edges = (125.0, 375.0)"
   ]
  },
  {
   "cell_type": "code",
   "execution_count": null,
   "metadata": {},
   "outputs": [],
   "source": [
    "@variables t\n",
    "signal(t) = edges[begin] <= t <= edges[end] ? 1.0 : 0.0\n",
    "@register_symbolic signal(t)\n",
    "\n",
    "@named sys = RtgMTK(signal)"
   ]
  },
  {
   "cell_type": "code",
   "execution_count": null,
   "metadata": {},
   "outputs": [],
   "source": [
    "u0 = rs.resting_u0(sys)\n",
    "prob = ODEProblem(sys, u0, tend, params)"
   ]
  },
  {
   "cell_type": "code",
   "execution_count": null,
   "metadata": {},
   "outputs": [],
   "source": [
    "sol = solve(prob, tstops=edges)"
   ]
  },
  {
   "cell_type": "code",
   "execution_count": null,
   "metadata": {},
   "outputs": [],
   "source": [
    "plot(sol, vars=(rs.s), xlims=())"
   ]
  },
  {
   "cell_type": "code",
   "execution_count": null,
   "metadata": {},
   "outputs": [],
   "source": [
    "plot(sol, vars=[rs.Rtg1_n])"
   ]
  },
  {
   "cell_type": "markdown",
   "metadata": {},
   "source": [
    "## Simulations\n",
    "\n",
    "The product of the following\n",
    "- Waveforms: Square (125-375 sec duty cycle)\n",
    "- Parameter to change: 5 Protein levels\n",
    "- Protein amount: `[0.001,0.01,0.1,0.2,0.5,1.,2.,4. ,8., 16.,50.,100.]` x of original levels.\n",
    "\n",
    "End point: ratio of nucleus to cytosol concentrations of Rtg1 and Rtg3"
   ]
  },
  {
   "cell_type": "markdown",
   "metadata": {},
   "source": []
  }
 ],
 "metadata": {
  "kernelspec": {
   "display_name": "Julia 1.7.2",
   "language": "julia",
   "name": "julia-1.7"
  },
  "language_info": {
   "file_extension": ".jl",
   "mimetype": "application/julia",
   "name": "julia",
   "version": "1.7.2"
  },
  "orig_nbformat": 4
 },
 "nbformat": 4,
 "nbformat_minor": 2
}
