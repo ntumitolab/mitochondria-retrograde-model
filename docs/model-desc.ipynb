{
 "cells": [
  {
   "cell_type": "markdown",
   "id": "5c5d78bf",
   "metadata": {},
   "source": [
    "# Model descriptions\n",
    "\n",
    "The Mitochondrial Retrograde (RTG) Signalling Model is a system of 11 coupled ODEs."
   ]
  },
  {
   "cell_type": "code",
   "execution_count": null,
   "id": "4104bdaf",
   "metadata": {},
   "outputs": [],
   "source": [
    "using RetroSignalModel\n",
    "using ModelingToolkit\n",
    "\n",
    "@named sys = RtgMTK(; simplify=false)\n"
   ]
  },
  {
   "cell_type": "markdown",
   "id": "30809154",
   "metadata": {},
   "source": [
    "## Parameter estimation\n",
    "\n",
    "Simulated annealing (SAMIN) with bounds was used to find a set of parameters that fit exprerimental conditions. The following code is just a demonstration. In peactice we ran the code for much longer.\n",
    "\n",
    "[Source code](https://github.com/ntumitolab/RetroSignalModel.jl)"
   ]
  },
  {
   "cell_type": "code",
   "execution_count": null,
   "id": "4db77a6b",
   "metadata": {},
   "outputs": [],
   "source": [
    "using RetroSignalModel\n",
    "using Optim\n",
    "\n",
    "optim_params(targetratio=3, optimoptions=Optim.Options(iterations=100, show_trace=true, show_every=10))\n"
   ]
  },
  {
   "cell_type": "markdown",
   "id": "46700abd",
   "metadata": {},
   "source": [
    "## Valid parameter sets"
   ]
  },
  {
   "cell_type": "code",
   "execution_count": null,
   "id": "c24c85fc",
   "metadata": {},
   "outputs": [],
   "source": [
    "using RetroSignalModel\n",
    "using CSV\n",
    "using DataFrames\n",
    "using Plots\n"
   ]
  },
  {
   "cell_type": "code",
   "execution_count": null,
   "id": "b95007f6",
   "metadata": {},
   "outputs": [],
   "source": [
    "filename = joinpath(dirname(pathof(RetroSignalModel)), \"data\", \"solution_rtgMTK_optim.csv\")\n",
    "dfoptim = let\n",
    "    df = CSV.read(filename, DataFrame)\n",
    "    df[!, Not(:n_S)] .= log10.(df[!, Not(:n_S)])\n",
    "end\n",
    "\n",
    "res = map(sort(names(dfoptim))) do lab\n",
    "    histogram(dfoptim[!, lab], label=lab)\n",
    "end\n",
    "\n",
    "plot(res..., layout=(6, 4), size=(1024, 1024))\n",
    "# savefig(\"optimparams.png\")\n"
   ]
  },
  {
   "cell_type": "code",
   "execution_count": null,
   "id": "4e478291",
   "metadata": {},
   "outputs": [],
   "source": [
    "filename = joinpath(dirname(pathof(RetroSignalModel)), \"data\", \"solution_rtgM4.csv\")\n",
    "dforig = let\n",
    "    df = CSV.read(filename, DataFrame)\n",
    "    df[!, Not(:n_S)] .= log10.(df[!, Not(:n_S)])\n",
    "end\n",
    "\n",
    "res = map(sort(names(dforig))) do lab\n",
    "    histogram(dforig[!, lab], label=lab)\n",
    "end\n",
    "\n",
    "plot(res..., layout=(6, 4), size=(1024, 1024))\n",
    "# savefig(\"randomparams.png\")\n"
   ]
  }
 ],
 "metadata": {
  "kernelspec": {
   "display_name": "Julia 1.9.3",
   "language": "julia",
   "name": "julia-1.9"
  },
  "language_info": {
   "file_extension": ".jl",
   "mimetype": "application/julia",
   "name": "julia",
   "version": "1.9.3"
  }
 },
 "nbformat": 4,
 "nbformat_minor": 5
}
