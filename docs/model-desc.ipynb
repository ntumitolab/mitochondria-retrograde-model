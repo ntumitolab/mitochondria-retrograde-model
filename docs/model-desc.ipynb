{
 "cells": [
  {
   "cell_type": "markdown",
   "id": "5c5d78bf",
   "metadata": {},
   "source": [
    "# Model descriptions\n",
    "\n",
    "The Mitochondrial Retrograde (RTG) Signalling Model is a system of 11 coupled ODEs."
   ]
  },
  {
   "cell_type": "code",
   "execution_count": null,
   "id": "4104bdaf",
   "metadata": {},
   "outputs": [],
   "source": [
    "using RetroSignalModel\n",
    "using ModelingToolkit\n",
    "\n",
    "@named sys = RtgMTK(; simplify=false)"
   ]
  },
  {
   "cell_type": "markdown",
   "id": "30809154",
   "metadata": {},
   "source": [
    "## Parameter estimation\n",
    "\n",
    "Simulated annealing (SAMIN) with bounds was used to find a set of parameters that fit exprerimental conditions. This code example below only runs for 1000 iterations. In our study, we found the solution converges after around 10^5 iterations. Moreover, we can use another function `optim_params_threads()` to generate valid parameter sets in paralell.\n",
    "\n",
    "[Source code](https://github.com/ntumitolab/RetroSignalModel.jl/blob/main/src/params.jl)"
   ]
  },
  {
   "cell_type": "code",
   "execution_count": null,
   "id": "4db77a6b",
   "metadata": {},
   "outputs": [],
   "source": [
    "using RetroSignalModel\n",
    "import RetroSignalModel as rs\n",
    "using Optim\n",
    "\n",
    "res, params = optim_params(\n",
    "    rs.RtgMTK;\n",
    "    knockoutlevel=1e-4,\n",
    "    proteinlevels=rs.STRESSED,\n",
    "    lowerbound=1e-3,\n",
    "    upperbound=1e3,\n",
    "    hilllowerbound=2.0,\n",
    "    hillupperbound=5.0,\n",
    "    xinit=1.0,\n",
    "    optimsolver=Optim.SAMIN(),\n",
    "    optimoptions=Optim.Options(iterations=10^3, show_trace=true, show_every=100),\n",
    "    targetratio=10)"
   ]
  }
 ],
 "metadata": {
  "kernelspec": {
   "display_name": "Julia 1.7.2",
   "language": "julia",
   "name": "julia-1.7"
  },
  "language_info": {
   "file_extension": ".jl",
   "mimetype": "application/julia",
   "name": "julia",
   "version": "1.7.2"
  }
 },
 "nbformat": 4,
 "nbformat_minor": 5
}
