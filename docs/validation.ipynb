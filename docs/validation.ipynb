{
    "cells": [
        {
            "cell_type": "markdown",
            "metadata": {},
            "source": [
                "# Validations"
            ]
        },
        {
            "cell_type": "code",
            "execution_count": null,
            "metadata": {},
            "outputs": [],
            "source": [
                "using Plots\n",
                "using Plots.PlotMeasures\n",
                "using ModelingToolkit\n",
                "using DifferentialEquations\n",
                "using LaTeXStrings\n",
                "using RetroSignalModel\n",
                "import RetroSignalModel as rs"
            ]
        },
        {
            "cell_type": "code",
            "execution_count": null,
            "metadata": {},
            "outputs": [],
            "source": [
                "@named sys = RtgMTK(rs.ONE_SIGNAL)\n",
                "u0 = rs.resting_u0(sys)\n",
                "\n",
                "ks = load_parameters(\"solution_rtgM4.csv\")[1]\n",
                "prob = SteadyStateProblem(sys, u0, ks)\n",
                "# Warm up\n",
                "sol = solve(prob, DynamicSS(Rodas5()));"
            ]
        },
        {
            "cell_type": "code",
            "execution_count": null,
            "metadata": {},
            "outputs": [],
            "source": [
                "psmap = Dict(k => i for (i, k) in enumerate(parameters(sys)))"
            ]
        },
        {
            "cell_type": "markdown",
            "metadata": {},
            "source": [
                "## Bmh partial knockout\n",
                "\n",
                "Source: https://github.com/ntumitolab/MitoRetroDynamics/blob/main/validation.ipynb\n",
                "\n",
                "Initial protein concentrations: Get expression levels: uses data from [GSE102475](https://github.com/NTUMitoLab/RetroSignalModel.jl?organization=NTUMitoLab&organization=NTUMitoLab#differential-gene-expression)."
            ]
        },
        {
            "cell_type": "code",
            "execution_count": null,
            "metadata": {},
            "outputs": [],
            "source": [
                "idxmulS = psmap[rs.mul_S]\n",
                "\n",
                "r3nc_wt = map(0.0:0.02:1.0) do s\n",
                "    p = copy(prob.p)\n",
                "    p[idxmulS] = s\n",
                "    sol = solve(remake(prob, p=p), DynamicSS(Rodas5()))\n",
                "    rs.rtg3_nucleus(sol) / rs.rtg3_cytosol(sol)\n",
                "end"
            ]
        },
        {
            "cell_type": "code",
            "execution_count": null,
            "metadata": {},
            "outputs": [],
            "source": [
                "plot(0.0:0.02:1.0, r3nc_wt, label=\"Wild Type\", lw=2)\n",
                "\n",
                "idxBmh = psmap[rs.ΣBmh]\n",
                "\n",
                "for i in 1:6\n",
                "    r3nc_Δb = map(0.0:0.02:1.0) do s\n",
                "        p = copy(prob.p)\n",
                "        p[idxmulS] = s\n",
                "        p[idxBmh] = prob.p[idxBmh] / 10^i\n",
                "        sol = solve(remake(prob, p=p), DynamicSS(Rodas5()))\n",
                "        rs.rtg3_nucleus(sol) / rs.rtg3_cytosol(sol)\n",
                "    end\n",
                "\n",
                "    plot!(0.0:0.02:1.0, r3nc_Δb, label = string(\"Bmh \", L\"10^{-%$i}\", \" X\"))\n",
                "end\n",
                "\n",
                "plot!(legend=:right, title=\"Bmh Knockdown\", xlabel=\"Damage Signal\", ylabel=\"Ratio of nucleus to cytosol RTG3\", xlims=(0.0, 1.0), ylims=(0.0, 5.0))"
            ]
        },
        {
            "cell_type": "markdown",
            "metadata": {},
            "source": [
                "## Mks partial knockdown"
            ]
        },
        {
            "cell_type": "code",
            "execution_count": null,
            "metadata": {},
            "outputs": [],
            "source": [
                "idxΣMks = psmap[rs.ΣMks]\n",
                "\n",
                "plot(0.0:0.02:1.0, r3nc_wt, label=\"Wild Type\", lw=2)\n",
                "\n",
                "for i in 1:5\n",
                "    r3nc_Δb = map(0.0:0.02:1.0) do s\n",
                "        p = copy(prob.p)\n",
                "        p[idxmulS] = s\n",
                "        p[idxBmh] = prob.p[idxΣMks] / 10^i\n",
                "        sol = solve(remake(prob, p=p), DynamicSS(Rodas5()))\n",
                "        rs.rtg3_nucleus(sol) / rs.rtg3_cytosol(sol)\n",
                "    end\n",
                "\n",
                "    plot!(0.0:0.02:1.0, r3nc_Δb, label = string(\"Mks \", L\"10^{-%$i}\", \" X\"))\n",
                "end\n",
                "\n",
                "plot!(legend=:right, title=\"Mks Knockdown\", xlabel=\"Damage Signal\", ylabel=\"Ratio of nucleus to cytosol RTG3\", xlims=(0.0, 1.0), ylims=(0.0, 5.0))"
            ]
        },
        {
            "cell_type": "markdown",
            "metadata": {},
            "source": [
                "## Rapamycin and glutamate\n",
                "\n",
                "`kn2M` was decreased ten times to simulated enhanced binding of Mks and Rtg2 upon Rapamycin / glutamate addition."
            ]
        },
        {
            "cell_type": "code",
            "execution_count": null,
            "metadata": {},
            "outputs": [],
            "source": [
                "idxkn2M = psmap[rs.kn2M]\n",
                "r3nc_ra = map(0.0:0.02:1.0) do s\n",
                "    p = copy(prob.p)\n",
                "    p[idxmulS] = s\n",
                "    p[idxkn2M] /= 10\n",
                "    sol = solve(remake(prob, p=p), DynamicSS(Rodas5()))\n",
                "    rs.rtg3_nucleus(sol) / rs.rtg3_cytosol(sol)\n",
                "end\n",
                "\n",
                "pl1 = plot(0.0:0.02:1.0, [r3nc_wt r3nc_ra], label=[\"Wild Type\" \"Rapamycin / Glutamate\"], lw=2, legend=:right, \n",
                "    xlims=(0.0, 1.0), ylims=(0.0, 5.0),  xlabel=\"Damage Signal\", ylabel=\"Ratio of nucleus to cytosol RTG3\")"
            ]
        },
        {
            "cell_type": "markdown",
            "metadata": {},
            "source": [
                "### Interactions with protein knockout"
            ]
        },
        {
            "cell_type": "code",
            "execution_count": null,
            "metadata": {},
            "outputs": [],
            "source": [
                "idxmulS = psmap[rs.mul_S]\n",
                "idxBmh = psmap[rs.ΣBmh]\n",
                "idxΣMks = psmap[rs.ΣMks]\n",
                "idxkn2M = psmap[rs.kn2M]\n",
                "idxΣRtg1 = psmap[rs.ΣRtg1]\n",
                "idxΣRtg2 = psmap[rs.ΣRtg2]\n",
                "idxΣRtg3 = psmap[rs.ΣRtg3]\n",
                "\n",
                "function remake_rapa(prob)\n",
                "    p = copy(prob.p)\n",
                "    p[idxkn2M] /= 10\n",
                "    remake(prob; p = p)\n",
                "end\n",
                "\n",
                "function remake_ΔBmh(prob)\n",
                "    p = copy(prob.p)\n",
                "    p[idxBmh] *= 1e-4\n",
                "    remake(prob; p = p)\n",
                "end\n",
                "\n",
                "function remake_ΔMks(prob)\n",
                "    p = copy(prob.p)\n",
                "    p[idxΣMks] *= 1e-4\n",
                "    remake(prob; p = p)\n",
                "end\n",
                "\n",
                "function remake_ΔRtg1(prob)\n",
                "    p = copy(prob.p)\n",
                "    p[idxΣRtg1] *= 1e-4\n",
                "    remake(prob; p = p)\n",
                "end\n",
                "\n",
                "function remake_ΔRtg2(prob)\n",
                "    p = copy(prob.p)\n",
                "    p[idxΣRtg2] *= 1e-4\n",
                "    remake(prob; p = p)\n",
                "end\n",
                "\n",
                "function remake_ΔRtg3(prob)\n",
                "    p = copy(prob.p)\n",
                "    p[idxΣRtg3] *= 1e-4\n",
                "    remake(prob; p = p)\n",
                "end\n",
                "\n",
                "function get_r3nc(s, prob)\n",
                "    p = copy(prob.p)\n",
                "    p[idxmulS] = s\n",
                "    sol = solve(remake(prob, p=p), DynamicSS(Rodas5()))\n",
                "    return rs.rtg3_nucleus(sol) / rs.rtg3_cytosol(sol)\n",
                "end"
            ]
        },
        {
            "cell_type": "code",
            "execution_count": null,
            "metadata": {},
            "outputs": [],
            "source": [
                "f_r3nc_wt(s) = get_r3nc(s, prob)\n",
                "f_r3nc_ra(s) = get_r3nc(s, prob |> remake_rapa)\n",
                "f_r3nc_ΔBmh(s) = get_r3nc(s, prob |> remake_ΔBmh)\n",
                "f_r3nc_ΔBmh_ra(s) = get_r3nc(s, prob |> remake_ΔBmh |> remake_rapa)\n",
                "f_r3nc_ΔMks(s) = get_r3nc(s, prob |> remake_ΔMks)\n",
                "f_r3nc_ΔMks_ra(s) = get_r3nc(s, prob |> remake_ΔMks |> remake_rapa)\n",
                "f_r3nc_ΔRtg1(s) = get_r3nc(s, prob |> remake_ΔRtg1)\n",
                "f_r3nc_ΔRtg1_ra(s) = get_r3nc(s, prob |> remake_ΔRtg1 |> remake_rapa)\n",
                "f_r3nc_ΔRtg2(s) = get_r3nc(s, prob |> remake_ΔRtg2)\n",
                "f_r3nc_ΔRtg2_ra(s) = get_r3nc(s, prob |> remake_ΔRtg2 |> remake_rapa)\n",
                "f_r3nc_ΔRtg3(s) = get_r3nc(s, prob |> remake_ΔRtg3)\n",
                "f_r3nc_ΔRtg3_ra(s) = get_r3nc(s, prob |> remake_ΔRtg3 |> remake_rapa)"
            ]
        },
        {
            "cell_type": "code",
            "execution_count": null,
            "metadata": {},
            "outputs": [],
            "source": [
                "pl1 = plot(\n",
                "    [f_r3nc_wt f_r3nc_ra], 0.0, 1.0, \n",
                "    label=[\"WT\" \"Rapa\"], lw=2, legend=:right, \n",
                "    xlims=(0.0, 1.0), ylims=(0.0, 5.0),  \n",
                "    xlabel=\"Damage\", ylabel=\"nucleus:cytosol RTG3\",\n",
                "    title = \"Without knockout\")\n",
                "\n",
                "pl2 = plot(\n",
                "    [f_r3nc_ΔBmh f_r3nc_ΔBmh_ra], 0.0, 1.0, \n",
                "    label=[\"WT\" \"Rapa\"], lw=2, legend=:right, \n",
                "    xlims=(0.0, 1.0), ylims=(0.0, 5.0),  \n",
                "    xlabel=\"Damage\", ylabel=\"nucleus:cytosol RTG3\",\n",
                "    title = \"Bmh knockout\")\n",
                "\n",
                "pl3 = plot(\n",
                "    [f_r3nc_ΔMks f_r3nc_ΔMks_ra], 0.0, 1.0, \n",
                "    label=[\"WT\" \"Rapa\"], lw=2, legend=:right, \n",
                "    xlims=(0.0, 1.0), ylims=(0.0, 5.0),  \n",
                "    xlabel=\"Damage\", ylabel=\"nucleus:cytosol RTG3\",\n",
                "    title = \"Mks knockout\")\n",
                "\n",
                "pl4 = plot(\n",
                "    [f_r3nc_ΔRtg1 f_r3nc_ΔRtg1_ra], 0.0, 1.0, \n",
                "    label=[\"WT\" \"Rapa\"], lw=2, legend=:right, \n",
                "    # xlims=(0.0, 1.0), ylims=(0.0, 5.0),  \n",
                "    xlabel=\"Damage\", ylabel=\"nucleus:cytosol RTG3\",\n",
                "    title = \"Rtg1 knockout\")\n",
                "\n",
                "pl5 = plot(\n",
                "    [f_r3nc_ΔRtg2 f_r3nc_ΔRtg2_ra], 0.0, 1.0, \n",
                "    label=[\"WT\" \"Rapa\"], lw=2, legend=:right, \n",
                "    xlims=(0.0, 1.0), ylims=(0.0, 1.0),  \n",
                "    xlabel=\"Damage\", ylabel=\"nucleus:cytosol RTG3\",\n",
                "    title = \"Rtg2 knockout\")\n",
                "\n",
                "pl6 = plot(\n",
                "    [f_r3nc_ΔRtg3 f_r3nc_ΔRtg3_ra], 0.0, 1.0, \n",
                "    label=[\"WT\" \"Rapa\"], lw=2, legend=:right, \n",
                "    # xlims=(0.0, 1.0), ylims=(0.0, 5.0),  \n",
                "    xlabel=\"Damage\", ylabel=\"nucleus:cytosol RTG3\",\n",
                "    title = \"Rtg3 knockout\")\n",
                "\n",
                "plot(pl1, pl2, pl3, pl4, pl5, pl6, layout = (3, 2), size=(600, 800), left_margin = 5mm)"
            ]
        },
        {
            "cell_type": "markdown",
            "metadata": {},
            "source": [
                "## Gene knockout and Rtg 3 distribution"
            ]
        },
        {
            "cell_type": "code",
            "execution_count": null,
            "metadata": {},
            "outputs": [],
            "source": [
                "colors = [:black :red :orange :purple :green :blue]\n",
                "labels = [\"WT\" \"ΔBmh\" \"ΔMks\" \"ΔRtg1\" \"ΔRtg2\" \"ΔRtg3\"]\n",
                "labels_rapa = labels .* \" (Rapa)\""
            ]
        },
        {
            "cell_type": "code",
            "execution_count": null,
            "metadata": {},
            "outputs": [],
            "source": [
                "plot([f_r3nc_wt f_r3nc_ΔBmh f_r3nc_ΔMks f_r3nc_ΔRtg1 f_r3nc_ΔRtg2 f_r3nc_ΔRtg3], 0.0, 1.0,\n",
                "label=labels, linestyle=:solid, linecolor=colors,\n",
                "xlabel=\"Damage\", ylabel=\"Nucleus:cytosol RTG3\")\n",
                "\n",
                "plot!([f_r3nc_ra f_r3nc_ΔBmh_ra f_r3nc_ΔMks_ra f_r3nc_ΔRtg1_ra f_r3nc_ΔRtg2_ra f_r3nc_ΔRtg3_ra], 0.0, 1.0,\n",
                "label = labels_rapa, linestyle=:dash, linecolor = colors,\n",
                "xlabel=\"Damage\", ylabel=\"Nucleus:cytosol RTG3\", size=(600, 600))"
            ]
        }
    ],
    "metadata": {
        "kernelspec": {
            "display_name": "Julia 1.7.3",
            "language": "julia",
            "name": "julia-1.7"
        },
        "language_info": {
            "file_extension": ".jl",
            "mimetype": "application/julia",
            "name": "julia",
            "version": "1.7.3"
        },
        "orig_nbformat": 4
    },
    "nbformat": 4,
    "nbformat_minor": 2
}
