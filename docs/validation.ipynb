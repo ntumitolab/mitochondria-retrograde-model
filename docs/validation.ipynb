{
    "cells": [
        {
            "cell_type": "markdown",
            "metadata": {},
            "source": [
                "# Validations"
            ]
        },
        {
            "cell_type": "code",
            "execution_count": null,
            "metadata": {},
            "outputs": [],
            "source": [
                "using Plots\n",
                "using ModelingToolkit\n",
                "using DifferentialEquations\n",
                "using RetroSignalModel\n",
                "import RetroSignalModel as rs"
            ]
        },
        {
            "cell_type": "code",
            "execution_count": null,
            "metadata": {},
            "outputs": [],
            "source": [
                "@named sys = RtgMTK(rs.ONE_SIGNAL)\n",
                "u0 = rs.resting_u0(sys)\n",
                "\n",
                "ks = load_parameters(\"solution_rtgM4.csv\")[1]\n",
                "prob = SteadyStateProblem(sys, u0, ks)\n",
                "sol = solve(prob, DynamicSS(Rodas5()))"
            ]
        },
        {
            "cell_type": "markdown",
            "metadata": {},
            "source": [
                "## Bmh knockout\n",
                "\n",
                "Source: https://github.com/ntumitolab/MitoRetroDynamics/blob/main/validation.ipynb\n",
                "\n",
                "Initial protein concentrations: Get expression levels: uses data from [GSE102475](https://github.com/NTUMitoLab/RetroSignalModel.jl?organization=NTUMitoLab&organization=NTUMitoLab#differential-gene-expression)."
            ]
        },
        {
            "cell_type": "code",
            "execution_count": null,
            "metadata": {},
            "outputs": [],
            "source": [
                "idxmulS = findfirst(isequal(rs.mul_S), parameters(sys))\n",
                "idxBmh = findfirst(isequal(rs.ΣBmh), parameters(sys))\n",
                "\n",
                "r3nc_wt = map(0.0:0.02:1.0) do s\n",
                "    p = copy(prob.p)\n",
                "    p[idxmulS] = s\n",
                "    sol = solve(remake(prob, p=p), DynamicSS(Rodas5()))\n",
                "    rs.rtg3_nucleus(sol) / rs.rtg3_cytosol(sol)\n",
                "end"
            ]
        },
        {
            "cell_type": "code",
            "execution_count": null,
            "metadata": {},
            "outputs": [],
            "source": [
                "r3nc_Δb = map(0.0:0.02:1.0) do s\n",
                "    p = copy(prob.p)\n",
                "    p[idxmulS] = s\n",
                "    p[idxBmh] = 1e-4\n",
                "    sol = solve(remake(prob, p=p), DynamicSS(Rodas5()))\n",
                "    rs.rtg3_nucleus(sol) / rs.rtg3_cytosol(sol)\n",
                "end\n",
                "\n",
                "plot(0.0:0.02:1.0, [r3nc_wt r3nc_Δb], label=[\"Wild Type\" \"ΔBmh\"], lw=2, legend=:right, \n",
                "    xlims=(0.0, 1.0), ylims=(0.0, 5.0),  xlabel=\"Damage Signal\", ylabel=\"Ratio of nucleus to cytosol RTG3\")"
            ]
        },
        {
            "cell_type": "markdown",
            "metadata": {},
            "source": [
                "## Rapamycin and glutamate\n",
                "\n",
                "`kn2M` was decreased ten times to simulated enhanced binding of Mks and Rtg2 upon Rapamycin / glutamate addition."
            ]
        },
        {
            "cell_type": "code",
            "execution_count": null,
            "metadata": {},
            "outputs": [],
            "source": [
                "idxkn2M = findfirst(isequal(rs.kn2M), parameters(sys))\n",
                "r3nc_ra = map(0.0:0.02:1.0) do s\n",
                "    p = copy(prob.p)\n",
                "    p[idxmulS] = s\n",
                "    p[idxkn2M] /= 10\n",
                "    sol = solve(remake(prob, p=p), DynamicSS(Rodas5()))\n",
                "    rs.rtg3_nucleus(sol) / rs.rtg3_cytosol(sol)\n",
                "end\n",
                "\n",
                "plot(0.0:0.02:1.0, [r3nc_wt r3nc_ra], label=[\"Wild Type\" \"Rapamycin / Glutamate\"], lw=2, legend=:right, \n",
                "    xlims=(0.0, 1.0), ylims=(0.0, 5.0),  xlabel=\"Damage Signal\", ylabel=\"Ratio of nucleus to cytosol RTG3\")"
            ]
        },
        {
            "cell_type": "markdown",
            "metadata": {},
            "source": [
                "## Mks knockdown"
            ]
        },
        {
            "cell_type": "code",
            "execution_count": null,
            "metadata": {},
            "outputs": [],
            "source": [
                "idxΣMks = findfirst(isequal(rs.ΣMks), parameters(sys))\n",
                "r3nc_Δm = map(0.0:0.02:1.0) do s\n",
                "    p = copy(prob.p)\n",
                "    p[idxmulS] = s\n",
                "    p[idxΣMks] = 1e-4\n",
                "    sol = solve(remake(prob, p=p), DynamicSS(Rodas5()))\n",
                "    rs.rtg3_nucleus(sol) / rs.rtg3_cytosol(sol)\n",
                "end\n",
                "\n",
                "plot(0.0:0.02:1.0, [r3nc_wt r3nc_Δm], label=[\"Wild Type\" \"ΔMks\"], lw=2, legend=:right, \n",
                "    xlims=(0.0, 1.0), ylims=(0.0, 5.0),  xlabel=\"Damage Signal\", ylabel=\"Ratio of nucleus to cytosol RTG3\")"
            ]
        }
    ],
    "metadata": {
        "kernelspec": {
            "display_name": "Julia 1.7.2",
            "language": "julia",
            "name": "julia-1.7"
        },
        "language_info": {
            "file_extension": ".jl",
            "mimetype": "application/julia",
            "name": "julia",
            "version": "1.7.2"
        },
        "orig_nbformat": 4
    },
    "nbformat": 4,
    "nbformat_minor": 2
}
