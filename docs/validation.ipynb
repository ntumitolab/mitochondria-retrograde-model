{
 "cells": [
  {
   "cell_type": "markdown",
   "metadata": {},
   "source": [
    "# Validation"
   ]
  },
  {
   "cell_type": "code",
   "execution_count": null,
   "metadata": {},
   "outputs": [],
   "source": [
    "using FindSteadyStates\n",
    "using CairoMakie\n",
    "import RetroSignalModel as rs"
   ]
  },
  {
   "cell_type": "code",
   "execution_count": null,
   "metadata": {},
   "outputs": [],
   "source": [
    "rtgM4 = rs.rtgM4(1);\n",
    "pr_table = rs.get_protein_lookup(rtgM4);"
   ]
  },
  {
   "cell_type": "markdown",
   "metadata": {},
   "source": [
    "## Initiate protein concentrations\n",
    "\n",
    "- Get expression levels: `getExpLevels` uses data from [GSE102475](https://github.com/NTUMitoLab/RetroSignalModel.jl?organization=NTUMitoLab&organization=NTUMitoLab#differential-gene-expression)\n",
    "- Sampling agent concentrations: The [`init_u`](https://github.com/stevengogogo/RetroSignalModel.jl/blob/73ffb3713b8e5481a85c3ce9590c9c53e8440faf/src/models/utils.jl#L63-L85) can setup protein concentrations with given total expression levels."
   ]
  },
  {
   "cell_type": "code",
   "execution_count": null,
   "metadata": {},
   "outputs": [],
   "source": [
    "# Set expression level\n",
    "exp = rs.getExpLevels()\n",
    "# Knock out Bmh\n",
    "exp_dBmh = (exp..., Bmh=1e-4)"
   ]
  },
  {
   "cell_type": "code",
   "execution_count": null,
   "metadata": {},
   "outputs": [],
   "source": [
    "# Get agent concentrations\n",
    "u_low = rs.init_u(rtgM4.model, pr_table; expLevels=exp_dBmh, init_s=0.2);"
   ]
  },
  {
   "cell_type": "markdown",
   "metadata": {},
   "source": []
  },
  {
   "cell_type": "code",
   "execution_count": null,
   "metadata": {},
   "outputs": [],
   "source": [
    "# Get solution\n",
    "sol = rs.getSteadySol(rtgM4, u_low)"
   ]
  },
  {
   "cell_type": "code",
   "execution_count": null,
   "metadata": {},
   "outputs": [],
   "source": [
    "r1 = rs.getOutput(sol, \"Rtg1\", pr_table)\n",
    "@show r1.Conc_Cyt"
   ]
  },
  {
   "cell_type": "code",
   "execution_count": null,
   "metadata": {},
   "outputs": [],
   "source": [
    "function measure_trans(m, p, dmg_sig, explvl, gfp)\n",
    "    pr_table = rs.get_protein_lookup(m)\n",
    "    u = rs.init_u(m.model, pr_table; expLevels= explvl, init_s=dmg_sig);\n",
    "    prob = DEsteady(func=m.model, u0=u, p=p, method=rs.SSMETHOD)\n",
    "    sol = solve(prob)\n",
    "    return rs.getOutput(sol, gfp, pr_table)\n",
    "end"
   ]
  },
  {
   "cell_type": "code",
   "execution_count": null,
   "metadata": {},
   "outputs": [],
   "source": [
    "measure_trans(rtgM4, rtgM4.p, 0.4, exp, \"Rtg3\")"
   ]
  },
  {
   "cell_type": "code",
   "execution_count": null,
   "metadata": {},
   "outputs": [],
   "source": [
    "measure_trans(rtgM4, rtgM4.p, 0.1, exp, \"Rtg3\")\n",
    "measure_trans(rtgM4, rtgM4.p, 0.9, (exp..., Bmh=1e-4), \"Rtg3\")"
   ]
  },
  {
   "cell_type": "code",
   "execution_count": null,
   "metadata": {},
   "outputs": [],
   "source": [
    "tbl = (x = [1, 1, 1, 1,2,2,2,2],\n",
    "       height = [\n",
    "        measure_trans(rtgM4, rtgM4.p, 0.1, exp, \"Rtg3\").Conc_Cyt,\n",
    "        measure_trans(rtgM4, rtgM4.p, 0.1, exp, \"Rtg3\").Conc_Nuc,\n",
    "        measure_trans(rtgM4, rtgM4.p, 0.9, exp, \"Rtg3\").Conc_Cyt,\n",
    "        measure_trans(rtgM4, rtgM4.p, 0.9, exp, \"Rtg3\").Conc_Nuc,\n",
    "        measure_trans(rtgM4, rtgM4.p, 0.1, (exp..., Bmh=1), \"Rtg3\").Conc_Cyt,\n",
    "        measure_trans(rtgM4, rtgM4.p, 0.1, (exp..., Bmh=1), \"Rtg3\").Conc_Nuc,\n",
    "        measure_trans(rtgM4, rtgM4.p, 0.9, (exp..., Bmh=1), \"Rtg3\").Conc_Cyt,\n",
    "        measure_trans(rtgM4, rtgM4.p, 0.9, (exp..., Bmh=1), \"Rtg3\").Conc_Nuc\n",
    "       ],\n",
    "       grp = [1, 1, 2, 2, 3, 3, 4, 4], # Genotype\n",
    "       grp1 = [1, 2, 1, 2, 1, 2, 1, 2] # Mitochondrial condition\n",
    ")"
   ]
  },
  {
   "cell_type": "code",
   "execution_count": null,
   "metadata": {},
   "outputs": [],
   "source": [
    "fig = Figure()\n",
    "colors = Makie.wong_colors()\n",
    "ax = Axis(fig[1,1], xticks = (1:2, [\"Control (WT/mtDamage)\", \"Bmh-del (WT/mtDamage)\"]),\n",
    "title = \"Rtg3 translocation\")\n",
    "\n",
    "barplot!(ax, tbl.x, tbl.height,\n",
    "        dodge = tbl.grp,\n",
    "        stack = tbl.grp1,\n",
    "        color = colors[tbl.grp1]\n",
    ")\n",
    "\n",
    "# Legend\n",
    "labels = [\"Rtg3-GFP (Cytosol)\", \"Rtg3-GFP (Nucleus)\"]\n",
    "elements = [PolyElement(polycolor = colors[i]) for i in 1:length(labels)]\n",
    "Legend(fig[1,2], elements, labels, \"Rtg3 Concentration\")\n",
    "# save(\"validation.pdf\", fig)\n",
    "fig"
   ]
  }
 ],
 "metadata": {
  "kernelspec": {
   "display_name": "Julia 1.7.2",
   "language": "julia",
   "name": "julia-1.7"
  },
  "language_info": {
   "file_extension": ".jl",
   "mimetype": "application/julia",
   "name": "julia",
   "version": "1.7.2"
  },
  "orig_nbformat": 4
 },
 "nbformat": 4,
 "nbformat_minor": 2
}
