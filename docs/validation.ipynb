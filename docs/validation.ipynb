{
    "cells": [
        {
            "cell_type": "markdown",
            "metadata": {},
            "source": [
                "# Validations\n",
                "\n",
                "## Bmh knockout\n",
                "\n",
                "Source: https://github.com/ntumitolab/MitoRetroDynamics/blob/main/validation.ipynb\n",
                "\n",
                "Initial protein concentrations: Get expression levels: uses data from [GSE102475](https://github.com/NTUMitoLab/RetroSignalModel.jl?organization=NTUMitoLab&organization=NTUMitoLab#differential-gene-expression)."
            ]
        },
        {
            "cell_type": "code",
            "execution_count": null,
            "metadata": {},
            "outputs": [],
            "source": [
                "using StatsPlots\n",
                "using RetroSignalModel\n",
                "using ModelingToolkit\n",
                "using DifferentialEquations\n",
                "\n",
                "import RetroSignalModel as rs"
            ]
        },
        {
            "cell_type": "code",
            "execution_count": null,
            "metadata": {},
            "outputs": [],
            "source": [
                "proteinwt = rs.STRESSED\n",
                "proteinΔbmh = Dict(proteinwt..., rs.ΣBmh=>1e-4)"
            ]
        },
        {
            "cell_type": "markdown",
            "metadata": {},
            "source": [
                "Let's try one set of params and solve the steady-state solution:"
            ]
        },
        {
            "cell_type": "code",
            "execution_count": null,
            "metadata": {},
            "outputs": [],
            "source": [
                "@named sys = RtgMTK(rs.ONE_SIGNAL)\n",
                "u0 = rs.resting_u0(sys)\n",
                "\n",
                "kinconstants = load_parameters(\"solution_rtgM4.csv\")[1]\n",
                "params = merge(proteinwt, kinconstants, Dict(rs.mul_S => 0.1))\n",
                "\n",
                "prob = SteadyStateProblem(sys, u0, params)\n",
                "sol = solve(prob, DynamicSS(Rodas5()))"
            ]
        },
        {
            "cell_type": "markdown",
            "metadata": {},
            "source": [
                "Considering a combination of Wild-type vs. Bmh knockout, and Low damage signal = `0.1` vs. High = `0.9`."
            ]
        },
        {
            "cell_type": "code",
            "execution_count": null,
            "metadata": {},
            "outputs": [],
            "source": [
                "sol_wt_lo = solve(SteadyStateProblem(sys, u0, merge(params, Dict(rs.mul_S => 0.1))), DynamicSS(Rodas5()))\n",
                "sol_wt_hi = solve(SteadyStateProblem(sys, u0, merge(params, Dict(rs.mul_S => 0.9))), DynamicSS(Rodas5()))\n",
                "sol_Δb_lo = solve(SteadyStateProblem(sys, u0, merge(params, proteinΔbmh, Dict(rs.mul_S => 0.1))), DynamicSS(Rodas5()))\n",
                "sol_Δb_hi = solve(SteadyStateProblem(sys, u0, merge(params, proteinΔbmh, Dict(rs.mul_S => 0.9))), DynamicSS(Rodas5()))"
            ]
        },
        {
            "cell_type": "code",
            "execution_count": null,
            "metadata": {},
            "outputs": [],
            "source": [
                "r3nu = [rs.rtg3_nucleus(sol) for sol in (sol_wt_lo, sol_wt_hi, sol_Δb_lo, sol_Δb_hi)]\n",
                "r3cy = [rs.rtg3_cytosol(sol) for sol in (sol_wt_lo, sol_wt_hi, sol_Δb_lo, sol_Δb_hi)]\n",
                "\n",
                "ticklabel = [\"WT (Low S)\", \"WT (Hi S)\", \"ΔBmh (Low S)\", \"ΔBmh (Hi S)\"]\n",
                "\n",
                "groupedbar([r3nu r3cy], \n",
                "    bar_position = :stack, \n",
                "    bar_width=0.5,\n",
                "    xticks=(1:length(ticklabel), ticklabel),\n",
                "    label=[\"Rtg3 (nucleus)\" \"Rtg3 (cytosol)\"],\n",
                "    title=\"Rtg3 translocation\",\n",
                "    ylabel = \"Rtg3 concnetration\",\n",
                "    legend=:right\n",
                "    )"
            ]
        },
        {
            "cell_type": "markdown",
            "metadata": {},
            "source": [
                "## Rapamycin and glutamate\n",
                "\n",
                "`kn2M` was decreased ten times to simulated enhanced binding of Mks and Rtg2 upon Rapamycin / glutamate addition."
            ]
        },
        {
            "cell_type": "code",
            "execution_count": null,
            "metadata": {},
            "outputs": [],
            "source": [
                "param_rapamycin = copy(params)\n",
                "param_rapamycin[rs.kn2M] /= 10\n",
                "\n",
                "@named sys = RtgMTK(rs.ONE_SIGNAL)\n",
                "u0 = rs.resting_u0(sys)\n",
                "\n",
                "sol_ra_lo = solve(SteadyStateProblem(sys, u0, merge(param_rapamycin, Dict(rs.mul_S => 0.1))), DynamicSS(Rodas5()))\n",
                "sol_ra_hi = solve(SteadyStateProblem(sys, u0, merge(param_rapamycin, Dict(rs.mul_S => 0.9))), DynamicSS(Rodas5()))"
            ]
        },
        {
            "cell_type": "code",
            "execution_count": null,
            "metadata": {},
            "outputs": [],
            "source": [
                "r3nu = [rs.rtg3_nucleus(sol) for sol in (sol_wt_lo, sol_wt_hi, sol_ra_lo, sol_ra_hi)]\n",
                "r3cy = [rs.rtg3_cytosol(sol) for sol in (sol_wt_lo, sol_wt_hi, sol_ra_lo, sol_ra_hi)]\n",
                "\n",
                "ticklabel = [\"Control (Low S)\", \"Control (Hi S)\", \"Rapa (Low S)\", \"Rapa (Hi S)\"]\n",
                "\n",
                "groupedbar([r3nu r3cy], \n",
                "    bar_position = :stack, \n",
                "    bar_width=0.5,\n",
                "    xticks=(1:length(ticklabel), ticklabel),\n",
                "    label=[\"Rtg3 (nucleus)\" \"Rtg3 (cytosol)\"],\n",
                "    title=\"Rtg3 translocation\",\n",
                "    ylabel = \"Rtg3 concnetration\",\n",
                "    legend=:right\n",
                "    )"
            ]
        }
    ],
    "metadata": {
        "kernelspec": {
            "display_name": "Julia 1.7.2",
            "language": "julia",
            "name": "julia-1.7"
        },
        "language_info": {
            "file_extension": ".jl",
            "mimetype": "application/julia",
            "name": "julia",
            "version": "1.7.2"
        },
        "orig_nbformat": 4
    },
    "nbformat": 4,
    "nbformat_minor": 2
}
