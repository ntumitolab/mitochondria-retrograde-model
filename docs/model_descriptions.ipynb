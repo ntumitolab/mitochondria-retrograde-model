{
 "cells": [
  {
   "cell_type": "markdown",
   "id": "5c5d78bf",
   "metadata": {},
   "source": [
    "# Model descriptions\n",
    "\n",
    "The model is a system of 11 coupled ODEs."
   ]
  },
  {
   "cell_type": "code",
   "execution_count": null,
   "id": "4104bdaf",
   "metadata": {},
   "outputs": [],
   "source": [
    "using RetroSignalModel\n",
    "using ModelingToolkit\n",
    "\n",
    "@named sys = RtgMTK(; simplify=false)"
   ]
  },
  {
   "cell_type": "markdown",
   "id": "6a2385e8-96d9-4683-ade2-3cf50cb3ac6a",
   "metadata": {},
   "source": [
    "## Expression Level of RTG proteins\n",
    "\n",
    "- Data Source: https://yeastgfp.yeastgenome.org/\n",
    "- Accessed on: 2021/05/07\n",
    "\n",
    "### Rtg1\n",
    "\n",
    "![](./img/expressionlevel/Rtg1GFP.png)\n",
    "\n",
    "\n",
    "### Rtg2\n",
    "![](./img/expressionlevel/Rtg2GFP.png)\n",
    "\n",
    "### Rtg3\n",
    "![](./img/expressionlevel/Rtg3GFP.png)\n",
    "\n",
    "### Bmh1\n",
    "![](./img/expressionlevel/Bmh1GFP.png)\n",
    "\n",
    "### Bmh2\n",
    "![](./img/expressionlevel/Bmh2GFP.png)\n",
    "\n",
    "### Mks1\n",
    "![](./img/expressionlevel/Mks1GFP.png)\n",
    "\n",
    "\n",
    "### Summary\n",
    "\n",
    "|Protein Name|molecules/cell|\n",
    "|---|---|\n",
    "|Rtg1p|2190|\n",
    "|Rtg2p|3260|\n",
    "|Rtg3p|1050|\n",
    "|Bmh1p|158000|\n",
    "|Bmh2p|47600|\n",
    "|Mks1p|*not visualized*|"
   ]
  },
  {
   "cell_type": "code",
   "execution_count": null,
   "id": "345e0bd6-cfe1-42fc-8361-2fb977d8d0b3",
   "metadata": {
    "execution": {
     "iopub.execute_input": "2022-02-22T13:51:51.177000Z",
     "iopub.status.busy": "2022-02-22T13:51:50.611000Z",
     "iopub.status.idle": "2022-02-22T13:52:06.112000Z",
     "shell.execute_reply": "2022-02-22T13:52:06.078000Z"
    }
   },
   "outputs": [],
   "source": [
    "using Plots\n",
    "\n",
    "# Expression level\n",
    "\n",
    "explvls = (Rtg1p=2190, \n",
    "       Rtg2p=3260,\n",
    "       Rtg3p=1050,\n",
    "       Bmh1p=158000,\n",
    "       Bmh2p=47600)\n",
    "\n",
    "bar(collect(explvls), color=:grey, framestyle=:box,\n",
    "    yscale=:log10, ylabel=\"Number of Molecules / Cell\", minorgrid=true,\n",
    "    xticks=(1:5, string.(keys(explvls))), xlabel=\"RTG-related proteins\",\n",
    "    legend=false)"
   ]
  },
  {
   "cell_type": "markdown",
   "id": "30809154",
   "metadata": {},
   "source": [
    "## Parameter estimation\n",
    "\n",
    "Simulated annealing (SA) was used to find a set of parameters that fit exprerimental conditions. This code example below only runs 1000 iterations. In our study, we found the solution converges after around 10^5 iterations.\n",
    "\n",
    "[Source code](https://github.com/ntumitolab/RetroSignalModel.jl/blob/main/src/params.jl)"
   ]
  },
  {
   "cell_type": "code",
   "execution_count": 8,
   "id": "4db77a6b",
   "metadata": {},
   "outputs": [],
   "source": [
    "using RetroSignalModel\n",
    "import RetroSignalModel as rs\n",
    "using Optim\n",
    "\n",
    "res, params = optim_params(\n",
    "    rs.RtgMTK;\n",
    "    knockoutlevel=1e-4,\n",
    "    proteinlevels=rs.STRESSED,\n",
    "    lowerbound=1e-3,\n",
    "    upperbound=1e3,\n",
    "    hilllowerbound=2.0,\n",
    "    hillupperbound=5.0,\n",
    "    xinit=1.0,\n",
    "    optimsolver=Optim.SAMIN(),\n",
    "    optimoptions=Optim.Options(iterations=10^3, show_trace=true, show_every=100),\n",
    "    targetratio=10)"
   ]
  }
 ],
 "metadata": {
  "kernelspec": {
   "display_name": "Julia 1.7.2",
   "language": "julia",
   "name": "julia-1.7"
  },
  "language_info": {
   "file_extension": ".jl",
   "mimetype": "application/julia",
   "name": "julia",
   "version": "1.7.2"
  }
 },
 "nbformat": 4,
 "nbformat_minor": 5
}
