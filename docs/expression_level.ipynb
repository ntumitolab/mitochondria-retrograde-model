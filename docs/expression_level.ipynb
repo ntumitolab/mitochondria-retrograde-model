{
 "cells": [
  {
   "cell_type": "markdown",
   "id": "6a2385e8-96d9-4683-ade2-3cf50cb3ac6a",
   "metadata": {},
   "source": [
    "# Expression Level of RTG proteins\n",
    "\n",
    "- Data Source: https://yeastgfp.yeastgenome.org/\n",
    "- Accessed on: 2021/05/07\n",
    "\n",
    "## Results\n",
    "\n",
    "### Rtg1\n",
    "\n",
    "![](./img/expressionlevel/Rtg1GFP.png)\n",
    "\n",
    "\n",
    "### Rtg2\n",
    "![](./img/expressionlevel/Rtg2GFP.png)\n",
    "\n",
    "### Rtg3\n",
    "![](./img/expressionlevel/Rtg3GFP.png)\n",
    "\n",
    "### Bmh1\n",
    "![](./img/expressionlevel/Bmh1GFP.png)\n",
    "\n",
    "### Bmh2\n",
    "![](./img/expressionlevel/Bmh2GFP.png)\n",
    "\n",
    "### Mks1\n",
    "![](./img/expressionlevel/Mks1GFP.png)\n",
    "\n",
    "\n",
    "## Summary\n",
    "\n",
    "|Protein Name|molecules/cell|\n",
    "|---|---|\n",
    "|Rtg1p|2190|\n",
    "|Rtg2p|3260|\n",
    "|Rtg3p|1050|\n",
    "|Bmh1p|158000|\n",
    "|Bmh2p|47600|\n",
    "|Mks1p|*not visualized*|"
   ]
  },
  {
   "cell_type": "code",
   "execution_count": null,
   "id": "345e0bd6-cfe1-42fc-8361-2fb977d8d0b3",
   "metadata": {
    "execution": {
     "iopub.execute_input": "2022-02-22T13:51:51.177000Z",
     "iopub.status.busy": "2022-02-22T13:51:50.611000Z",
     "iopub.status.idle": "2022-02-22T13:52:06.112000Z",
     "shell.execute_reply": "2022-02-22T13:52:06.078000Z"
    }
   },
   "outputs": [],
   "source": [
    "using Plots\n",
    "\n",
    "# Expression level\n",
    "\n",
    "explvls = (Rtg1p=2190, \n",
    "       Rtg2p=3260,\n",
    "       Rtg3p=1050,\n",
    "       Bmh1p=158000,\n",
    "       Bmh2p=47600)\n",
    "\n",
    "bar(collect(explvls), color=:grey, framestyle=:box,\n",
    "    yscale=:log10, ylabel=\"Number of Molecules / Cell\", minorgrid=true,\n",
    "    xticks=(1:5, string.(keys(explvls))), xlabel=\"RTG-related proteins\",\n",
    "    legend=false)"
   ]
  }
 ],
 "metadata": {
  "kernelspec": {
   "display_name": "Julia 1.7.2",
   "language": "julia",
   "name": "julia-1.7"
  },
  "language_info": {
   "file_extension": ".jl",
   "mimetype": "application/julia",
   "name": "julia",
   "version": "1.7.2"
  }
 },
 "nbformat": 4,
 "nbformat_minor": 5
}
