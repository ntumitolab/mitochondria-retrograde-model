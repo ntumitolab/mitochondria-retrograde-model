{
 "cells": [
  {
   "cell_type": "markdown",
   "id": "6a2385e8-96d9-4683-ade2-3cf50cb3ac6a",
   "metadata": {},
   "source": [
    "# Expression Level of RTG proteins\n",
    "\n",
    "- Data Source: https://yeastgfp.yeastgenome.org/\n",
    "- Accessed on: 2021/05/07\n",
    "\n",
    "## Results\n",
    "\n",
    "### Rtg1\n",
    "\n",
    "![](./img/expressionlevel/Rtg1GFP.png)\n",
    "\n",
    "\n",
    "### Rtg2\n",
    "![](./img/expressionlevel/Rtg2GFP.png)\n",
    "\n",
    "### Rtg3\n",
    "![](./img/expressionlevel/Rtg3GFP.png)\n",
    "\n",
    "### Bmh1\n",
    "![](./img/expressionlevel/Bmh1GFP.png)\n",
    "\n",
    "### Bmh2\n",
    "![](./img/expressionlevel/Bmh2GFP.png)\n",
    "\n",
    "### Mks1\n",
    "![](./img/expressionlevel/Mks1GFP.png)\n",
    "\n",
    "\n",
    "## Summary\n",
    "\n",
    "|Protein Name|molecules/cell|\n",
    "|---|---|\n",
    "|Rtg1p|2190|\n",
    "|Rtg2p|3260|\n",
    "|Rtg3p|1050|\n",
    "|Bmh1p|158000|\n",
    "|Bmh2p|47600|\n",
    "|Mks1p|*not visualized*|"
   ]
  },
  {
   "cell_type": "code",
   "execution_count": null,
   "id": "345e0bd6-cfe1-42fc-8361-2fb977d8d0b3",
   "metadata": {
    "execution": {
     "iopub.execute_input": "2022-02-22T13:51:51.177000Z",
     "iopub.status.busy": "2022-02-22T13:51:50.611000Z",
     "iopub.status.idle": "2022-02-22T13:52:06.112000Z",
     "shell.execute_reply": "2022-02-22T13:52:06.078000Z"
    }
   },
   "outputs": [],
   "source": [
    "import PyPlot as plt\n",
    "using DataStructures\n",
    "\n",
    "# Expression level\n",
    "\n",
    "exp = OrderedDict(:Rtg1p=>2190, \n",
    "           :Rtg2p=>3260,\n",
    "           :Rtg3p=>1050,\n",
    "           :Bmh1p=>158000,\n",
    "           :Bmh2p=>47600)\n",
    "\n",
    "fig, ax = plt.subplots()\n",
    "\n",
    "\n",
    "for (i,n) in enumerate(keys(exp))\n",
    "    val = exp[n]\n",
    "    rec = ax.bar(i, val, edgecolor=\"black\",color=\"gray\", fill=true)\n",
    "    \n",
    "end\n",
    "\n",
    "ax.set_xticklabels( [1, collect(keys(exp))...] )\n",
    "ax.set_yscale(\"log\")\n",
    "ax.set_ylabel(\"Number of Molecules / Cell\", fontweight=\"bold\")\n",
    "ax.set_xlabel(\"RTG-related proteins\", fontweight=\"bold\")\n",
    "fig\n",
    "# fig.savefig(\"ExpressionLevel/result/expLevel\";transparent=true, bbox_inches = \"tight\")"
   ]
  }
 ],
 "metadata": {
  "kernelspec": {
   "display_name": "Julia 1.7.2",
   "language": "julia",
   "name": "julia-1.7"
  },
  "language_info": {
   "file_extension": ".jl",
   "mimetype": "application/julia",
   "name": "julia",
   "version": "1.7.2"
  }
 },
 "nbformat": 4,
 "nbformat_minor": 5
}
