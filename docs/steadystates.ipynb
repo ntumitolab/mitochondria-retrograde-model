{
    "cells": [
        {
            "cell_type": "markdown",
            "metadata": {},
            "source": [
                "# Finding Steady states\n",
                "\n",
                "Searching steady states in RTG model `rtgMTK` using `find_steady_states()`."
            ]
        },
        {
            "cell_type": "code",
            "execution_count": null,
            "metadata": {},
            "outputs": [],
            "source": [
                "using RetroSignalModel\n",
                "\n",
                "paramsets = load_parameters()"
            ]
        },
        {
            "cell_type": "code",
            "execution_count": null,
            "metadata": {},
            "outputs": [],
            "source": [
                "sol = find_steady_states(;S = t -> 0.0, params=paramsets[1])"
            ]
        },
        {
            "cell_type": "markdown",
            "metadata": {},
            "source": [
                "**TODO**\n",
                "\n",
                "Steady states at different levels of input signal `S`. (Use a loop)."
            ]
        },
        {
            "cell_type": "markdown",
            "metadata": {},
            "source": [
                "## Saving results\n",
                "\n",
                "> WIP"
            ]
        }
    ],
    "metadata": {
        "kernelspec": {
            "display_name": "Julia 1.7.2",
            "language": "julia",
            "name": "julia-1.7"
        },
        "language_info": {
            "file_extension": ".jl",
            "mimetype": "application/julia",
            "name": "julia",
            "version": "1.7.2"
        }
    },
    "nbformat": 4,
    "nbformat_minor": 4
}
