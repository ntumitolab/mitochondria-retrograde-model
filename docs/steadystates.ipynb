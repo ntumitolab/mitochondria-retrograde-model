{
    "cells": [
        {
            "cell_type": "markdown",
            "metadata": {},
            "source": [
                "# Finding Steady states\n",
                "\n",
                "Searching steady states in RTG model `rtgMTK` using `find_steady_states()` in `RetroSignalModel.jl` module."
            ]
        },
        {
            "cell_type": "code",
            "execution_count": null,
            "metadata": {},
            "outputs": [],
            "source": [
                "using RetroSignalModel\n",
                "using ModelingToolkit"
            ]
        },
        {
            "cell_type": "code",
            "execution_count": null,
            "metadata": {},
            "outputs": [],
            "source": [
                "paramsets = load_parameters(\"solution_rtgM4.csv\");"
            ]
        },
        {
            "cell_type": "code",
            "execution_count": null,
            "metadata": {},
            "outputs": [],
            "source": [
                "srange = 0.0:0.05:1.0\n",
                "nsols = 100\n",
                "paramidx = 1"
            ]
        },
        {
            "cell_type": "code",
            "execution_count": null,
            "metadata": {},
            "outputs": [],
            "source": [
                "sols = map(srange) do s\n",
                "    find_steady_states(;S = t -> s, params=paramsets[paramidx], trajectories=nsols)\n",
                "end\n",
                "\n",
                "length.(sols)"
            ]
        },
        {
            "cell_type": "markdown",
            "metadata": {},
            "source": [
                "The system has one steady-state for each signal strength."
            ]
        },
        {
            "cell_type": "markdown",
            "metadata": {},
            "source": [
                "## Visualization"
            ]
        },
        {
            "cell_type": "code",
            "execution_count": null,
            "metadata": {},
            "outputs": [],
            "source": [
                "using Plots\n",
                "import RetroSignalModel as rs\n",
                "\n",
                "sts = states(rs.RtgMTK(;name=:sys))\n",
                "\n",
                "pls = map(keys(sts)) do i\n",
                "    xs = srange\n",
                "    ys = getindex.(first.(sols), i)\n",
                "    plot(xs, ys, lab=string(sts[i]))\n",
                "end\n",
                "\n",
                "plot(pls..., size=(1280, 1280))"
            ]
        }
    ],
    "metadata": {
        "kernelspec": {
            "display_name": "Julia 1.8.0-rc3",
            "language": "julia",
            "name": "julia-1.8"
        },
        "language_info": {
            "file_extension": ".jl",
            "mimetype": "application/julia",
            "name": "julia",
            "version": "1.8.0-rc3"
        }
    },
    "nbformat": 4,
    "nbformat_minor": 4
}
