{
    "cells": [
        {
            "cell_type": "markdown",
            "metadata": {},
            "source": [
                "# Finding Steady states\n",
                "\n",
                "Searching steady states in RTG4 model `rtgM4`.\n",
                "\n",
                "Use `SSRootfind` to find both stable and unstable nodes."
            ]
        },
        {
            "cell_type": "code",
            "execution_count": null,
            "metadata": {},
            "outputs": [],
            "source": [
                "import RetroSignalModel as rs\n",
                "using DifferentialEquations\n",
                "# Construct the model\n",
                "rtgM4 = rs.rtgM4(1)"
            ]
        },
        {
            "cell_type": "code",
            "execution_count": null,
            "metadata": {},
            "outputs": [],
            "source": [
                "# Reaction system\n",
                "rn = rtgM4.model"
            ]
        },
        {
            "cell_type": "code",
            "execution_count": null,
            "metadata": {},
            "outputs": [],
            "source": [
                "# System parameters\n",
                "params = rtgM4.p"
            ]
        },
        {
            "cell_type": "markdown",
            "metadata": {},
            "source": [
                "Reference initial conditions optimized by Jump and expression data"
            ]
        },
        {
            "cell_type": "code",
            "execution_count": null,
            "metadata": {},
            "outputs": [],
            "source": [
                "# Reference initial conditions optimized by Jump and expression data\n",
                "u0 = rtgM4.u\n",
                "statemap = Dict(k => i for (i,) in enumerate(keys(u0)))"
            ]
        },
        {
            "cell_type": "markdown",
            "metadata": {},
            "source": [
                "Calculate conservation relationships"
            ]
        },
        {
            "cell_type": "code",
            "execution_count": null,
            "metadata": {},
            "outputs": [],
            "source": [
                "Σbmh = u0.Bmh + u0.BmhMks\n",
                "ΣMks = u0.Mks + u0.BmhMks + u0.Rtg2Mks_c\n",
                "ΣRtg1 = u0.Rtg13_a_c + u0.Rtg13_i_c + u0.Rtg1_c + u0.Rtg1_n + u0.Rtg13_a_n + u0.Rtg13_i_n\n",
                "ΣRtg2 = u0.Rtg2Mks_c + u0.Rtg2_ina_c + u0.Rtg2_act_c\n",
                "ΣRtg3 = u0.Rtg13_a_c + u0.Rtg13_i_c + u0.Rtg13_a_n + u0.Rtg13_i_n + u0.Rtg3_i_c + u0.Rtg3_a_c + u0.Rtg3_a_n + u0.Rtg3_i_n"
            ]
        },
        {
            "cell_type": "code",
            "execution_count": null,
            "metadata": {},
            "outputs": [],
            "source": [
                "\"\"\"\n",
                "Create a set of initial conditions respecting conservation relationships for the ensemble\n",
                "\n",
                "    rand_func: a function that returns a valeu between 0 and 1\n",
                "\"\"\"\n",
                "function make_u0!(u0, Σbmh, ΣMks, ΣRtg1, ΣRtg2, ΣRtg3; rand_func=rand)\n",
                "\n",
                "    # Randomly make n fractions of total\n",
                "    function _frac(n::Int, total=1)\n",
                "        total .* diff([0.0; sort([rand_func() for _ in 1:(n-1)]); 1.0])\n",
                "    end\n",
                "\n",
                "    # Split ΣMks into 3\n",
                "    frac = _frac(3, ΣMks)\n",
                "    u0[statemap[:Mks]] = frac[1]\n",
                "    u0[statemap[:BmhMks]] = frac[2]\n",
                "    u0[statemap[:Rtg2Mks_c]] = frac[3]\n",
                "    u0[statemap[:Bmh]] = Σbmh - u0[statemap[:BmhMks]]\n",
                "\n",
                "    remainder = ΣRtg2 - u0[statemap[:Rtg2Mks_c]]\n",
                "    u0[statemap[:Rtg2_ina_c]] = remainder * rand_func()\n",
                "    u0[statemap[:Rtg2_act_c]] = remainder - u0[statemap[:Rtg2_ina_c]]\n",
                "\n",
                "    # Split ΣRtg1 into 6\n",
                "    frac = _frac(6, ΣRtg1)\n",
                "\n",
                "    u0[statemap[:Rtg13_a_c]] = frac[1]\n",
                "    u0[statemap[:Rtg13_i_c]] = frac[2]\n",
                "    u0[statemap[:Rtg1_c]] = frac[3]\n",
                "    u0[statemap[:Rtg1_n]] = frac[4]\n",
                "    u0[statemap[:Rtg13_a_n]] = frac[5]\n",
                "    u0[statemap[:Rtg13_i_n]] = frac[6]\n",
                "\n",
                "    # Split ΣRtg3 into 4\n",
                "    remainder = ΣRtg3 - (u0[statemap[:Rtg13_a_c]] + u0[statemap[:Rtg13_i_c]] + u0[statemap[:Rtg13_a_n]] + u0[statemap[:Rtg13_i_n]])\n",
                "    frac = _frac(4, remainder)\n",
                "\n",
                "    u0[statemap[:Rtg3_i_c]] = frac[1]\n",
                "    u0[statemap[:Rtg3_a_c]] = frac[2]\n",
                "    u0[statemap[:Rtg3_a_n]] = frac[3]\n",
                "    u0[statemap[:Rtg3_i_n]] = frac[4]\n",
                "\n",
                "    return u0\n",
                "end\n",
                "\n",
                "function prob_func(prob, i, repeat)\n",
                "    make_u0!(prob.u0, Σbmh, ΣMks, ΣRtg1, ΣRtg2, ΣRtg3)\n",
                "    prob\n",
                "end"
            ]
        },
        {
            "cell_type": "code",
            "execution_count": null,
            "metadata": {},
            "outputs": [],
            "source": [
                "\"\"\"Reject invalid (NaNs and negatives) and duplicate results\"\"\"\n",
                "function reduction(u, batch, I; negtol=-1e-6)\n",
                "    for result in batch\n",
                "        # Skip invalid (NaNs and negatives) results\n",
                "        if any(isnan.(result)) || any(result .< negtol)\n",
                "            continue\n",
                "        end\n",
                "\n",
                "        result .= max.(0, result)\n",
                "        isUnique = true\n",
                "\n",
                "        # Only save unique solutions\n",
                "        for existing in u\n",
                "            if all(isapprox.(existing, result, rtol=1e-4))\n",
                "                isUnique = false\n",
                "                break\n",
                "            end\n",
                "        end\n",
                "\n",
                "        if isUnique\n",
                "            u = push!(u, result)\n",
                "        end\n",
                "    end\n",
                "    return (u, false)\n",
                "end"
            ]
        },
        {
            "cell_type": "code",
            "execution_count": null,
            "metadata": {},
            "outputs": [],
            "source": [
                "## Ensemble simulation\n",
                "oprob = ODEProblem(rn, u0, (0.0, 1000.0), params)\n",
                "ssprob = SteadyStateProblem(oprob)\n",
                "method = SSRootfind()\n",
                "ensprob = EnsembleProblem(ssprob, prob_func=prob_func, reduction=reduction)"
            ]
        },
        {
            "cell_type": "code",
            "execution_count": null,
            "metadata": {},
            "outputs": [],
            "source": [
                "trajectories = 120000\n",
                "batch_size = 300\n",
                "@time sim = solve(ensprob, method, EnsembleThreads(); trajectories=trajectories, batch_size=batch_size)"
            ]
        },
        {
            "cell_type": "markdown",
            "metadata": {},
            "source": [
                "**TODO**\n",
                "\n",
                "Steady states at different levels of input signal `S`. (Use a loop)."
            ]
        },
        {
            "cell_type": "markdown",
            "metadata": {},
            "source": [
                "## Saving results\n",
                "\n",
                "> WIP"
            ]
        },
        {
            "cell_type": "code",
            "execution_count": null,
            "metadata": {},
            "outputs": [],
            "source": [
                "using Parameters\n",
                "using CSV\n",
                "using DataFrames\n",
                "using Random\n",
                "using SteadyStateDiffEq\n",
                "using LaTeXStrings\n",
                "using SteadyStates: merge_csv, create_null_dataframe, find_undef_name, valid"
            ]
        },
        {
            "cell_type": "code",
            "execution_count": null,
            "metadata": {},
            "outputs": [],
            "source": [
                "savedir =  joinpath(\"SteadyStates/data/steady_states_\")"
            ]
        },
        {
            "cell_type": "code",
            "execution_count": null,
            "metadata": {},
            "outputs": [],
            "source": [
                "# For Saving to Datafreme. \n",
                "if false\n",
                "\n",
                "    ks = keys(param.u)\n",
                "    filename = joinpath(save_dir, \"steady_states_PLACEHOLDER.csv\")\n",
                "\n",
                "    # number of iteration\n",
                "    ind = Int(64800)\n",
                "    iter_number = 10\n",
                "\n",
                "    for i in ProgressBar(1:iter_number)\n",
                "\n",
                "        df = create_null_dataframe(ks) # renew df. Clear the memory\n",
                "\n",
                "        param_ranges = [  \n",
                "            0.:1.,\n",
                "            100.:1000.,\n",
                "            0.:100.,\n",
                "            0.:1.,\n",
                "            0.:10.,\n",
                "            100.:10000.,\n",
                "            0.:1000.,\n",
                "            0.:10.,\n",
                "            0.:100.,\n",
                "            0.:1000.,\n",
                "            0.:100.,\n",
                "            0.:100.,\n",
                "            0.:10.,\n",
                "            0.:100.,\n",
                "            0.:100.,\n",
                "            0.:100.,\n",
                "            0.:10.,\n",
                "        ]\n",
                "\n",
                "        pr = ParameterRandom(\n",
                "            param_ranges,\n",
                "            len = ind)\n",
                "\n",
                "        sols = solve(de, pr);\n",
                "\n",
                "\n",
                "        for u in sols.u\n",
                "            any(isnan, u) ? continue : nothing # skip NaN value\n",
                "            d = Dict(keys(param.u) .=> u)\n",
                "            push!(df,d)\n",
                "        end\n",
                "\n",
                "\n",
                "\n",
                "        csvname = find_undef_name(filename, \"PLACEHOLDER\")\n",
                "\n",
                "        nrow(df) == 0 ? nothing : CSV.write(csvname, df) # skip null dataframe\n",
                "\n",
                "    end\n",
                "end "
            ]
        },
        {
            "cell_type": "markdown",
            "metadata": {},
            "source": [
                "## Merge files"
            ]
        },
        {
            "cell_type": "code",
            "execution_count": null,
            "metadata": {},
            "outputs": [],
            "source": [
                "df = merge_csv(savedir);\n",
                "\n",
                "df_ = valid(df; low=0.,high=1e4, s_low=0., s_high=1.0) # valid dataset\n",
                "sort!(df_)\n",
                "CSV.write(joinpath(\"SteadyStates/data\", \"valid_ss.csv\"),df_)"
            ]
        },
        {
            "cell_type": "code",
            "execution_count": null,
            "metadata": {},
            "outputs": [],
            "source": [
                "df_ = valid(df; low=0.,high=1e4, s_low=0., s_high=1.0) # valid dataset"
            ]
        },
        {
            "cell_type": "markdown",
            "metadata": {},
            "source": [
                "## Plot Steady States Results in Different Conditions"
            ]
        },
        {
            "cell_type": "code",
            "execution_count": null,
            "metadata": {},
            "outputs": [],
            "source": [
                "using Pkg \n",
                "Pkg.activate(\"SteadyStates\")\n",
                "Pkg.instantiate()\n",
                "using IJulia\n",
                "using TikzPictures\n"
            ]
        },
        {
            "cell_type": "code",
            "execution_count": null,
            "metadata": {},
            "outputs": [],
            "source": [
                "tp = TikzPicture(\"\\\\draw (0,0) -- (10,10);\\n\\\\draw (10,0) -- (0,10);\\n\\\\node at (5,5) {tikz \\$\\\\sqrt{\\\\pi}\\$};\", options=\"scale=0.25\", preamble=\"\")\n",
                "save(PDF(\"test\"), tp)"
            ]
        },
        {
            "cell_type": "code",
            "execution_count": null,
            "metadata": {},
            "outputs": [],
            "source": [
                "\n",
                "\"\"\"\n",
                "Try conditions of the model with given initial variables and parameters.\n",
                "\"\"\"\n",
                "function Try_conditions(u,p, VALID_SETTING;\n",
                "                        BREAK=false,\n",
                "                        Cond_Random=false)\n",
                "\n",
                "        @unpack  model, S_SPAN, DEL_CONC, TRANS_THRESHOLD,  DEFAULT_SSMETHOD, cond, protein_lookup = VALID_SETTING\n",
                "\n",
                "        valid = 1\n",
                "\n",
                "        num_cond = size(cond)[1] # number of conditions\n",
                "\n",
                "        # Shuffling the conditions\n",
                "        trial_cond_order = Cond_Random ? shuffle(1:num_cond) : 1:num_cond\n",
                "\n",
                "        test_log = Dict(\"nuc\"=>[], \"cyt\"=>[])\n",
                "\n",
                "        # get initial condition\n",
                "        de = DEsteady(func=model, u0=u, p=p, method=DEFAULT_SSMETHOD)\n",
                "        #u_ = solve(de) # This step changed the initial value, and reset as the steady ones\n",
                "        u_ = redist2monomer(u, protein_lookup)\n",
                "\n",
                "        for trial_n in trial_cond_order # Test conditions\n",
                "\n",
                "            con = cond[trial_n,:]\n",
                "\n",
                "            if typeof(con.Trans2Nuc) == Missing \n",
                "                push!(test_log[\"nuc\"] , Missing)\n",
                "                push!(test_log[\"cyt\"], Missing)\n",
                "                continue  # some conditions are not measured\n",
                "            end\n",
                "            \n",
                "\n",
                "            ud = Get_del_u(u_, con.rtg1, con.rtg2, con.rtg3, con.mks, con.s, protein_lookup; del_conc=DEL_CONC, s_span=S_SPAN)\n",
                "\n",
                "            sol = solve(de(ud))\n",
                "\n",
                "            # Check the steady-state is real\n",
                "            if sol.retcode==:Failure\n",
                "                valid = 0 #unstable system\n",
                "                break\n",
                "            end\n",
                "\n",
                "\n",
                "            trans2nuc = check_nu_accumulation(sol, con.gfp, protein_lookup, threshold=TRANS_THRESHOLD) # 1 means nucleus has significantly higer concentration than cytosol\n",
                "\n",
                "            \n",
                "  \n",
                "            push!(test_log[\"nuc\"] , trans2nuc[1])\n",
                "            push!(test_log[\"cyt\"], trans2nuc[2])\n",
                "            \n",
                " \n",
                "    end\n",
                "    \n",
                "        return test_log\n",
                "end\n",
                "\n",
                "\n",
                "function check_nu_accumulation(sol, gfp, protein_lookup; threshold = TRANS_THRESHOLD)\n",
                "\n",
                "    if gfp == \"rtg1\"\n",
                "        cyt_index = protein_lookup[:Rtg1_c]\n",
                "        nuc_index = protein_lookup[:Rtg1_n]\n",
                "    elseif gfp == \"rtg3\"\n",
                "        cyt_index = protein_lookup[:Rtg3_c]\n",
                "        nuc_index = protein_lookup[:Rtg3_n]\n",
                "    else\n",
                "        throw(MathodError)\n",
                "    end\n",
                "\n",
                "    total_conc_cyt = sum(sol[cyt_index])\n",
                "    total_conc_nuc = sum(sol[nuc_index])\n",
                "\n",
                "  \n",
                "    return (total_conc_nuc, total_conc_cyt)\n",
                "end\n",
                "\n",
                "function Get_del_u(u, rtg1, rtg2, rtg3, mks, s, protein_lookup; del_conc=DEL_CONC, s_span=S_SPAN )\n",
                "\n",
                "    del_info = Dict([:Rtg1, :Rtg2, :Rtg3, :Mks] .=> [rtg1, rtg2, rtg3, mks])\n",
                "    ud = deepcopy(u)\n",
                "\n",
                "    for protein in keys(del_info)\n",
                "        protein_existence = del_info[protein]\n",
                "        if protein_existence == 0\n",
                "            ud[protein_lookup[protein]] .= del_conc\n",
                "        end\n",
                "    end\n",
                "\n",
                "    ud[protein_lookup[:s]] = s_span[s+1] #in boolean, s=0 means 1 in span_tuple\n",
                "\n",
                "    return ud\n",
                "end\n",
                "\n",
                "\n",
                "function redist2monomer(u, protein_lookup)\n",
                "    u_dist = zeros(length(u))\n",
                "    \n",
                "    \n",
                "    # Rtg2 \n",
                "    sum_rtg2 = sum(u[protein_lookup[:Rtg2]])\n",
                "    u_dist[2] = sum_rtg2\n",
                "    \n",
                "     # Rtg3\n",
                "    sum_rtg3 = sum(u[protein_lookup[:Rtg3]])\n",
                "    u_dist[11] = sum_rtg3\n",
                "    \n",
                "     # Rtg1\n",
                "    sum_rtg1 = sum(u[protein_lookup[:Rtg1]])\n",
                "    u_dist[14] = sum_rtg1\n",
                "    \n",
                "    # Mks\n",
                "    sum_mks = sum(u[protein_lookup[:Mks]])\n",
                "    u_dist[4] = sum_mks\n",
                "    \n",
                "    # Bmh \n",
                "    sum_bmh = sum(u[protein_lookup[:Bmh]])\n",
                "    u_dist[6] = sum_bmh\n",
                "    \n",
                "    return u_dist\n",
                "    \n",
                "end\n",
                "\n",
                "param = RetroSignalModel.rtgM4.param();\n",
                "model = RetroSignalModel.rtgM4.model;\n",
                "u = param.u; \n",
                "p = param.p;"
            ]
        },
        {
            "cell_type": "code",
            "execution_count": null,
            "metadata": {},
            "outputs": [],
            "source": [
                "u_sep = redist2monomer(u,RetroSignalModel.get_protein_lookup(model))\n",
                "for (j,i) in zip(u_sep, model.states)\n",
                "    println(i,\"  \",j)\n",
                "end"
            ]
        },
        {
            "cell_type": "code",
            "execution_count": null,
            "metadata": {},
            "outputs": [],
            "source": [
                "transRes = Try_conditions(u_sep,p, valid_setting(model))"
            ]
        },
        {
            "cell_type": "code",
            "execution_count": null,
            "metadata": {},
            "outputs": [],
            "source": [
                "df = DataFrame(transRes)"
            ]
        },
        {
            "cell_type": "code",
            "execution_count": null,
            "metadata": {},
            "outputs": [],
            "source": [
                "Rtg2 = sum(u[RetroSignalModel.get_protein_lookup(model)[:Rtg2]])"
            ]
        },
        {
            "cell_type": "code",
            "execution_count": null,
            "metadata": {},
            "outputs": [],
            "source": [
                "RetroSignalModel.RTG_Response_Boolean"
            ]
        },
        {
            "cell_type": "code",
            "execution_count": null,
            "metadata": {},
            "outputs": [],
            "source": [
                "TexPic = L\"\"\"\n",
                "\\documentclass[border={5pt 0pt 20pt 5pt}, preview]{standalone}\n",
                "\n",
                "\\usepackage{pgfplots}\n",
                "\\pgfplotsset{compat=1.15}\n",
                "\\usepackage{xcolor}\n",
                "\n",
                "\n",
                "\\usepackage{tikz}\n",
                "\\usepackage[utf8]{inputenc}\n",
                "\\usepackage{xfp}\n",
                "\\usepackage{booktabs}\n",
                "\\usetikzlibrary{calc}\n",
                "\\usepackage{graphicx}\n",
                "\n",
                "\\newcommand{\\Del}[1]{\\textit{$\\Delta$\\MakeLowercase{#1}}}\n",
                "\\newcommand\\ratio[2]{%\n",
                "    \\pgfmathparse{ #1/(#1 + #2)}\\pgfmathresult\n",
                "}\n",
                "\n",
                "\n",
                "\\newcommand\\colorBar{\n",
                "    \\begin{tikzpicture}[baseline={(0,0)}, inner sep=0,outer sep=0]\n",
                "\n",
                "       \n",
                "        \\pgfdeclarehorizontalshading{someShading}{4cm}{\n",
                "        color(0cm)=(green!0!gray);\n",
                "        color(4cm)=(green!100!gray)\n",
                "        }\n",
                "        \n",
                "        \\shade [shading=someShading, yshift=-1cm]  (0,0) rectangle ++(1,0.3);\n",
                "        \\node [] at (0,-1.3) {0};\n",
                "        \\node [] at (1,-1.3) {1};\n",
                "        \n",
                "        \\end{tikzpicture}\n",
                "}\n",
                "\n",
                "\n",
                "\\newcommand\\particle[2]{%\n",
                "  \\begin{tikzpicture}[x=2cm, y=2cm]\n",
                "  \n",
                "\n",
                "  % Calculate the ratio of nucleus to cytosol concentration\n",
                "  \\def\\nratio{\\fpeval{ round(#1/(#1 + #2),2)}  };\n",
                "  \\def\\cratio{\\fpeval{ round(#2/(#1 + #2),2)}  };\n",
                "\n",
                "  \\def\\nconc{\\fpeval{ round(#1,1)}  };\n",
                "  \\def\\cconc{\\fpeval{ round(#2,1)}  };\n",
                "  \n",
                "  %Node for Circles\n",
                "  \\node at (0,0) [circle,draw, scale=1 ,fill=green!\\fpeval{round(100*(\\cratio))}!gray] (c2) {};\n",
                "  \n",
                "  \\node at (0,0) [circle,draw, scale=0.5 ,fill=green!\\fpeval{round(100*(\\nratio))}!gray] (c1) {};\n",
                "  \n",
                "  \n",
                "  %Node for line ends\n",
                "  \\node [inner sep=0,outer sep=0, xshift=0.2cm] at (c1.east) (n_conc) {};\n",
                "  \\node [inner sep=0,outer sep=0,yshift = -0.09cm] at (n_conc.south) (c_conc) {};\n",
                "  \n",
                "  % Node for data\n",
                "  \\node [inner sep=0,outer sep=0, xshift=0.cm, text width = 0cm, align=left] at (n_conc.east) {\\scalebox{.2}{\\nconc} };\n",
                "  \\node [inner sep=0,outer sep=0, xshift=0.cm, text width = 0cm, align=left] at (c_conc.east) {\\scalebox{.2}{\\cconc}};\n",
                "  \n",
                "  % Draw Lines\n",
                "  \\draw[-, very thin] (n_conc) -- (c1);\n",
                "  \\draw[-, very thin] (c_conc) -- (0.16cm,-0.1065cm);\n",
                "  \n",
                "  \\end{tikzpicture}\n",
                "}\n",
                "\n",
                "\\newcommand\\cell[2]{\n",
                "    \\begin{tikzpicture}[baseline={(c_conc.base)}, x=2cm, y=2cm, , outer sep=0]\n",
                "  \n",
                "        %Node for Circles\n",
                "        \\node at (0,0) [circle,draw, scale=1] (c2) {};\n",
                "        \n",
                "        \\node at (0,0) [circle,draw, scale=0.5] (c1) {};\n",
                "        \n",
                "        \n",
                "        %Node for line ends\n",
                "        \\node [inner sep=0,outer sep=0, xshift=0.2cm] at (c1.east) (n_conc) {};\n",
                "        \\node [inner sep=0,outer sep=0,yshift = -0.09cm] at (n_conc.south) (c_conc) {};\n",
                "        \n",
                "        % Node for data\n",
                "        \\node [inner sep=0,outer sep=0, xshift=0.cm, text width = 0cm, align=left] at (n_conc.east) {\\scalebox{.2}{#1} };\n",
                "        \\node [inner sep=0,outer sep=0, xshift=0.cm, text width = 0cm, align=left] at (c_conc.east) {\\scalebox{.2}{#2}};\n",
                "        \n",
                "        % Draw Lines\n",
                "        \\draw[-, very thin] (n_conc) -- (c1);\n",
                "        \\draw[-, very thin] (c_conc) -- (0.16cm,-0.1065cm);\n",
                "        \\end{tikzpicture}\n",
                "    \n",
                "}\n",
                "\n",
                "\\newcommand\\drawcell[2]{%\n",
                "    \\begin{tikzpicture}[baseline={(c_conc.base)}, outer sep=0]\n",
                "        \\def\\sc{3}\n",
                "        \\node at (0,0) [scale=\\sc] {\\cell{#1}{#2}};\n",
                "    \\end{tikzpicture}\n",
                "}\n",
                "\n",
                "\\newcommand\\drawRatio[2]{%\n",
                "    \\begin{tikzpicture}[baseline={(c_conc.base)}, outer sep=0]\n",
                "        \\def\\sc{3}\n",
                "        \\node at (0,0) [scale=\\sc] {\\particle{#1}{#2}};\n",
                "    \\end{tikzpicture}\n",
                "}\n",
                "\n",
                "\n",
                "\n",
                "\\begin{document}\n",
                "\n",
                "\\begin{tabular}[c]{p{1.4cm}p{1.8cm}p{2.8cm}|p{1.8cm}p{1.6cm}}\n",
                "    \\toprule\n",
                "    \\multicolumn{1}{c}{} & \\multicolumn{2}{c}{\\textbf{Healthy Mitochondria}} & \\multicolumn{2}{c}{\\textbf{Damaged Mitochondria}} \\\\ \\midrule\n",
                "     &\\textbf{Simulation} & \\multicolumn{1}{c}{\\textbf{Data}}\\hspace{0.52cm}  & \\textbf{Simulation} & \\hspace{0.5cm}\\textbf{Data}  \\\\ \n",
                "     &   \\multicolumn{4}{c}{\\textbf{Rtg3-GFP}}  \\\\\n",
                "    WT & \\drawRatio{%$(transRes[\"nuc\"][7])}{%$(transRes[\"cyt\"][7])} & \\drawRatio{0}{1} & \\drawRatio{%$(transRes[\"nuc\"][8])}{%$(transRes[\"cyt\"][8])} & \\drawRatio{1}{0} \\\\\n",
                "    \\Del{Rtg1} & \\drawRatio{%$(transRes[\"nuc\"][3])}{%$(transRes[\"cyt\"][3])} & \\drawRatio{1}{0}  & \\drawRatio{%$(transRes[\"nuc\"][4])}{%$(transRes[\"cyt\"][4])} & \\drawRatio{1}{0} \\\\\n",
                "    \\Del{Rtg2} & \\drawRatio{%$(transRes[\"nuc\"][5])}{%$(transRes[\"cyt\"][5])} & \\drawRatio{0}{1}& \\drawRatio{%$(transRes[\"nuc\"][6])}{%$(transRes[\"cyt\"][6])} & \\drawRatio{0}{1} \\\\\n",
                "    \\Del{Mks} & \\drawRatio{%$(transRes[\"nuc\"][18])}{%$(transRes[\"cyt\"][18])} & \\drawRatio{1}{0}& \\multicolumn{2}{r}{}  \\\\\n",
                "    \\Del{Rtg2}\\Del{Mks} & \\drawRatio{%$(transRes[\"nuc\"][17])}{%$(transRes[\"cyt\"][3])} & \\drawRatio{1}{0} & \\multicolumn{2}{r}{} \\\\ \n",
                "     &   \\multicolumn{4}{c}{\\textbf{Rtg1-GFP}}   \\\\\n",
                "    WT & \\drawRatio{%$(transRes[\"nuc\"][15])}{%$(transRes[\"cyt\"][15])} & \\drawRatio{0}{1} & \\drawRatio{%$(transRes[\"nuc\"][16])}{%$(transRes[\"cyt\"][16])} & \\drawRatio{1}{0} \\\\\n",
                "    \\Del{Rtg3} & \\drawRatio{%$(transRes[\"nuc\"][11])}{%$(transRes[\"cyt\"][11])} & \\drawRatio{0}{1}& \\drawRatio{%$(transRes[\"nuc\"][12])}{%$(transRes[\"cyt\"][12])} & \\drawRatio{0}{1} \\\\\n",
                "    \\Del{Rtg2} & \\drawRatio{%$(transRes[\"nuc\"][13])}{%$(transRes[\"cyt\"][13])} & \\drawRatio{0}{1} & \\drawRatio{%$(transRes[\"nuc\"][14])}{%$(transRes[\"cyt\"][14])} & \\drawRatio{0}{1} \\\\ \n",
                "    \\Del{Mks} & \\drawRatio{%$(transRes[\"nuc\"][20])}{%$(transRes[\"cyt\"][20])} & \\drawRatio{1}{0}& \\multicolumn{2}{r}{}  \\\\\n",
                "    \\Del{Rtg2}\\Del{Mks} & \\drawRatio{%$(transRes[\"nuc\"][19])}{%$(transRes[\"cyt\"][19])} & \\drawRatio{1}{0} & \\multicolumn{2}{r}{} \\\\ \n",
                "      &   \\multicolumn{4}{c}{\\textbf{Rtg2-GFP}}   \\\\\n",
                "    WT & \\drawRatio{0}{%$Rtg2} & \\drawRatio{0}{1} & \\drawRatio{0}{%$Rtg2} & \\drawRatio{0}{1} \\\\\n",
                "    &  \\multicolumn{4}{c}{\n",
                "        \n",
                "    \\begin{tikzpicture}\n",
                "        \\node [] (cell) {\\drawcell{Nucleus}{Cytosol}};\n",
                "        \\node [ right of=cell, xshift=1.5cm] (col) {\\colorBar};\n",
                "    \\end{tikzpicture}\n",
                "    } \n",
                "    \n",
                "    \\\\\n",
                "    \\bottomrule\n",
                "\\end{tabular}\n",
                "\n",
                "\\end{document}\n",
                "\"\"\"\n",
                "\n"
            ]
        },
        {
            "cell_type": "code",
            "execution_count": null,
            "metadata": {},
            "outputs": [],
            "source": [
                "open(\"SteadyStates/result/verification/PLOT_SteadyStateVerification.tex\", \"w\") do io\n",
                "           write(io, TexPic)\n",
                "       end"
            ]
        },
        {
            "cell_type": "markdown",
            "metadata": {},
            "source": [
                "# ;cd SteadyStates/result/verification/ "
            ]
        },
        {
            "cell_type": "code",
            "execution_count": null,
            "metadata": {},
            "outputs": [],
            "source": [
                ";xelatex PLOT_SteadyStateVerification  -synctex=1"
            ]
        },
        {
            "cell_type": "code",
            "execution_count": null,
            "metadata": {},
            "outputs": [],
            "source": [
                ";cd ../../../"
            ]
        },
        {
            "cell_type": "code",
            "execution_count": null,
            "metadata": {},
            "outputs": [],
            "source": [
                ";pwd"
            ]
        },
        {
            "cell_type": "code",
            "execution_count": null,
            "metadata": {},
            "outputs": [],
            "source": []
        },
        {
            "cell_type": "code",
            "execution_count": null,
            "metadata": {},
            "outputs": [],
            "source": []
        }
    ],
    "metadata": {
        "kernelspec": {
            "display_name": "Julia 1.7.2",
            "language": "julia",
            "name": "julia-1.7"
        },
        "language_info": {
            "file_extension": ".jl",
            "mimetype": "application/julia",
            "name": "julia",
            "version": "1.7.2"
        }
    },
    "nbformat": 4,
    "nbformat_minor": 4
}
