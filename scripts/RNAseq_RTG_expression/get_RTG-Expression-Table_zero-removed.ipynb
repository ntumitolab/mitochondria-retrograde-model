{
  "cells": [
    {
      "cell_type": "markdown",
      "metadata": {},
      "source": [
        "# Analysis RTG gene expression\n",
        "\n",
        "## Reference\n",
        "- Single-cell RNA-seq reveals intrinsic and extrinsic regulatory heterogeneity in yeast responding to stress\n",
        "    - Article. https://doi.org/10.1371/journal.pbio.2004050  \n",
        "    - RNA sequencing data(GSA102475). https://www.ncbi.nlm.nih.gov/geo/query/acc.cgi?acc=GSE102475"
      ]
    },
    {
      "cell_type": "code",
      "execution_count": null,
      "metadata": {},
      "outputs": [],
      "source": [
        "# Retrieve table\n",
        "import pandas as pd\n",
        "import numbers\n",
        "df = pd.read_table(\"data/GSE102475_GASCH_NaCl-scRNAseq_NormData.txt\")"
      ]
    },
    {
      "cell_type": "code",
      "execution_count": null,
      "metadata": {},
      "outputs": [],
      "source": [
        "def get_key(df, value):\n",
        "    return [k for k,v in df.items() if value==v]"
      ]
    },
    {
      "cell_type": "markdown",
      "metadata": {},
      "source": [
        "## Check availibility of RTG Genes"
      ]
    },
    {
      "cell_type": "code",
      "execution_count": null,
      "metadata": {},
      "outputs": [],
      "source": [
        "# Gene names\n",
        "alias = {\n",
        "    \"RTG1\": \"YOL067C\",\n",
        "    \"RTG2\": \"YGL252C\",\n",
        "    \"RTG3\": \"YBL103C\",\n",
        "    \"BMH1\": \"YER177W\",\n",
        "    \"MKS1\": \"YNL076W\",\n",
        "    \"CIT2\": \"YCR005C\"\n",
        "}\n",
        "\n",
        "for k in alias.keys():\n",
        "    if alias[k] in list(df[\"gene\"]):\n",
        "        print(\"{} is measured\".format(k))\n",
        "    else:\n",
        "        print(\"{} not found\".format(k))"
      ]
    },
    {
      "cell_type": "markdown",
      "metadata": {
        "nteract": {
          "transient": {
            "deleting": false
          }
        }
      },
      "source": [
        "## Get RTG gene expression table "
      ]
    },
    {
      "cell_type": "code",
      "execution_count": null,
      "metadata": {},
      "outputs": [],
      "source": [
        "df_filt = df[df[\"gene\"].isin(alias.values())]\n",
        "# filtered zeros\n",
        "df_filt_zeroRemoved = df_filt\n",
        "for key in df_filt.keys():\n",
        "    col = df_filt[key]\n",
        "    if 0.00 in list(col):\n",
        "        del df_filt_zeroRemoved[key]\n",
        "        \n",
        "# a to columndd alias\n",
        "alias_ns = [ get_key(alias, ali)[0] for ali in df_filt_zeroRemoved[\"gene\"]]\n",
        "df_filt_zeroRemoved[\"gene_alias\"] = alias_ns\n",
        "df_filt_zeroRemoved"
      ]
    },
    {
      "cell_type": "code",
      "execution_count": null,
      "metadata": {},
      "outputs": [],
      "source": [
        "df_filt_zeroRemoved.to_csv(\"data/RTG-Expression-Table_GSE102475.csv\", index=False)"
      ]
    }
  ],
  "metadata": {
    "kernel_info": {
      "name": "python37364bitsympyconda45abf14132e64f55a2b5804edde4e9fe"
    },
    "kernelspec": {
      "argv": [
        "/Users/md705/anaconda3/envs/sympy/bin/python",
        "-m",
        "ipykernel_launcher",
        "-f",
        "{connection_file}"
      ],
      "display_name": "Python 3.7.3 64-bit ('sympy': conda)",
      "env": {
        "AMD_ENTRYPOINT": "vs/workbench/services/extensions/node/extensionHostProcess",
        "APPLICATION_INSIGHTS_NO_DIAGNOSTIC_CHANNEL": "true",
        "AR": "/Users/md705/anaconda3/bin/x86_64-apple-darwin13.4.0-ar",
        "AS": "/Users/md705/anaconda3/bin/x86_64-apple-darwin13.4.0-as",
        "Apple_PubSub_Socket_Render": "/private/tmp/com.apple.launchd.hpP0RWmBcp/Render",
        "CC": "x86_64-apple-darwin13.4.0-clang",
        "CFLAGS": "-march=core2 -mtune=haswell -mssse3 -ftree-vectorize -fPIC -fPIE -fstack-protector-strong -O2 -pipe",
        "CHECKSYMS": "/Users/md705/anaconda3/bin/x86_64-apple-darwin13.4.0-checksyms",
        "CLANG": "/Users/md705/anaconda3/bin/x86_64-apple-darwin13.4.0-clang",
        "CLANGXX": "/Users/md705/anaconda3/bin/x86_64-apple-darwin13.4.0-clang++",
        "CODESIGN_ALLOCATE": "/Users/md705/anaconda3/bin/x86_64-apple-darwin13.4.0-codesign_allocate",
        "COMMAND_MODE": "unix2003",
        "CONDA_BACKUP_HOST": "x86_64-apple-darwin13.4.0",
        "CONDA_BUILD_SYSROOT": "/Applications/Xcode.app/Contents/Developer/Platforms/MacOSX.platform/Developer/SDKs/MacOSX10.14.sdk",
        "CONDA_DEFAULT_ENV": "sympy",
        "CONDA_PREFIX": "/Users/md705/anaconda3/envs/sympy",
        "CONDA_PREFIX_1": "/Users/md705/anaconda3",
        "CONDA_PROMPT_MODIFIER": "(sympy) ",
        "CONDA_PYTHON_EXE": "/Users/md705/anaconda3/bin/python",
        "CONDA_SHLVL": "2",
        "CPPFLAGS": "-D_FORTIFY_SOURCE=2 -mmacosx-version-min=10.9",
        "CXX": "x86_64-apple-darwin13.4.0-clang++",
        "CXXFLAGS": "-march=core2 -mtune=haswell -mssse3 -ftree-vectorize -fPIC -fPIE -fstack-protector-strong -O2 -pipe -stdlib=libc++ -fvisibility-inlines-hidden -std=c++14 -fmessage-length=0",
        "DEBUG_CFLAGS": "-march=core2 -mtune=haswell -mssse3 -ftree-vectorize -fPIC -fPIE -fstack-protector-strong -O2 -pipe -Og -g -Wall -Wextra",
        "DEBUG_CXXFLAGS": "-march=core2 -mtune=haswell -mssse3 -ftree-vectorize -fPIC -fPIE -fstack-protector-strong -O2 -pipe -stdlib=libc++ -fvisibility-inlines-hidden -std=c++14 -fmessage-length=0 -Og -g -Wall -Wextra",
        "DEBUG_FFLAGS": "-march=nocona -mtune=core2 -ftree-vectorize -fPIC -fstack-protector -O2 -pipe -march=nocona -mtune=core2 -ftree-vectorize -fPIC -fstack-protector -O2 -pipe -Og -g -Wall -Wextra -fcheck=all -fbacktrace -fimplicit-none -fvar-tracking-assignments",
        "DEBUG_FORTRANFLAGS": "-march=nocona -mtune=core2 -ftree-vectorize -fPIC -fstack-protector -O2 -pipe -march=nocona -mtune=core2 -ftree-vectorize -fPIC -fstack-protector -O2 -pipe -Og -g -Wall -Wextra -fcheck=all -fbacktrace -fimplicit-none -fvar-tracking-assignments",
        "DISPLAY": "/private/tmp/com.apple.launchd.v7d5oBV5lk/org.macosforge.xquartz:0",
        "ELECTRON_RUN_AS_NODE": "1",
        "F77": "/Users/md705/anaconda3/bin/x86_64-apple-darwin13.4.0-gfortran",
        "F90": "/Users/md705/anaconda3/bin/x86_64-apple-darwin13.4.0-gfortran",
        "F95": "/Users/md705/anaconda3/bin/x86_64-apple-darwin13.4.0-gfortran",
        "FC": "/Users/md705/anaconda3/bin/x86_64-apple-darwin13.4.0-gfortran",
        "FFLAGS": "-march=nocona -mtune=core2 -ftree-vectorize -fPIC -fstack-protector -O2 -pipe",
        "FORTRANFLAGS": "-march=nocona -mtune=core2 -ftree-vectorize -fPIC -fstack-protector -O2 -pipe",
        "GFORTRAN": "/Users/md705/anaconda3/bin/x86_64-apple-darwin13.4.0-gfortran",
        "HOME": "/Users/md705",
        "HOST": "x86_64-apple-darwin13.4.0",
        "INDR": "/Users/md705/anaconda3/bin/x86_64-apple-darwin13.4.0-indr",
        "INSTALL_NAME_TOOL": "/Users/md705/anaconda3/bin/x86_64-apple-darwin13.4.0-install_name_tool",
        "JAVA_HOME": "/Users/md705/anaconda3",
        "JAVA_HOME_CONDA_BACKUP": "",
        "LC_CTYPE": "UTF-8",
        "LD": "/Users/md705/anaconda3/bin/x86_64-apple-darwin13.4.0-ld",
        "LDFLAGS": "-Wl,-pie -Wl,-headerpad_max_install_names -Wl,-dead_strip_dylibs",
        "LDFLAGS_LD": "-pie -headerpad_max_install_names -dead_strip_dylibs",
        "LIBTOOL": "/Users/md705/anaconda3/bin/x86_64-apple-darwin13.4.0-libtool",
        "LIPO": "/Users/md705/anaconda3/bin/x86_64-apple-darwin13.4.0-lipo",
        "LOGNAME": "md705",
        "NM": "/Users/md705/anaconda3/bin/x86_64-apple-darwin13.4.0-nm",
        "NMEDIT": "/Users/md705/anaconda3/bin/x86_64-apple-darwin13.4.0-nmedit",
        "OTOOL": "/Users/md705/anaconda3/bin/x86_64-apple-darwin13.4.0-otool",
        "PAGESTUFF": "/Users/md705/anaconda3/bin/x86_64-apple-darwin13.4.0-pagestuff",
        "PATH": "/Users/md705/anaconda3/envs/sympy/bin:/Users/md705/anaconda3/bin:/Users/md705/anaconda3/bin:/Applications/Julia-0.6.app/Contents/Resources/julia/bin:/usr/local/bin:/usr/bin:/bin:/usr/sbin:/sbin:/Library/TeX/texbin:/opt/X11/bin",
        "PIPE_LOGGING": "true",
        "PWD": "/",
        "PYTHONIOENCODING": "utf-8",
        "PYTHONUNBUFFERED": "1",
        "RANLIB": "/Users/md705/anaconda3/bin/x86_64-apple-darwin13.4.0-ranlib",
        "REDO_PREBINDING": "/Users/md705/anaconda3/bin/x86_64-apple-darwin13.4.0-redo_prebinding",
        "SEGEDIT": "/Users/md705/anaconda3/bin/x86_64-apple-darwin13.4.0-segedit",
        "SEG_ADDR_TABLE": "/Users/md705/anaconda3/bin/x86_64-apple-darwin13.4.0-seg_addr_table",
        "SEG_HACK": "/Users/md705/anaconda3/bin/x86_64-apple-darwin13.4.0-seg_hack",
        "SHELL": "/bin/bash",
        "SHLVL": "2",
        "SIZE": "/Users/md705/anaconda3/bin/x86_64-apple-darwin13.4.0-size",
        "SSH_AUTH_SOCK": "/private/tmp/com.apple.launchd.jTA5MLjuTJ/Listeners",
        "STRINGS": "/Users/md705/anaconda3/bin/x86_64-apple-darwin13.4.0-strings",
        "STRIP": "/Users/md705/anaconda3/bin/x86_64-apple-darwin13.4.0-strip",
        "TMPDIR": "/var/folders/qf/w35389555yqbzklhyzsszz6h0000gn/T/",
        "USER": "md705",
        "VERBOSE_LOGGING": "true",
        "VSCODE_HANDLES_UNCAUGHT_ERRORS": "true",
        "VSCODE_IPC_HOOK": "/Users/md705/Library/Application Support/Code/1.42.0-main.sock",
        "VSCODE_IPC_HOOK_EXTHOST": "/var/folders/qf/w35389555yqbzklhyzsszz6h0000gn/T/vscode-ipc-a101476c-fe35-4fd0-aab6-58485b6679f5.sock",
        "VSCODE_LOGS": "/Users/md705/Library/Application Support/Code/logs/20200213T103614",
        "VSCODE_LOG_STACK": "false",
        "VSCODE_NLS_CONFIG": "{\"locale\":\"zh-tw\",\"availableLanguages\":{\"*\":\"zh-tw\"},\"_languagePackId\":\"3d192109ef304285b27b0d9497e99074.zh-tw\",\"_translationsConfigFile\":\"/Users/md705/Library/Application Support/Code/clp/3d192109ef304285b27b0d9497e99074.zh-tw/tcf.json\",\"_cacheRoot\":\"/Users/md705/Library/Application Support/Code/clp/3d192109ef304285b27b0d9497e99074.zh-tw\",\"_resolvedLanguagePackCoreLocation\":\"/Users/md705/Library/Application Support/Code/clp/3d192109ef304285b27b0d9497e99074.zh-tw/ae08d5460b5a45169385ff3fd44208f431992451\",\"_corruptedFile\":\"/Users/md705/Library/Application Support/Code/clp/3d192109ef304285b27b0d9497e99074.zh-tw/corrupted.info\",\"_languagePackSupport\":true}",
        "VSCODE_NODE_CACHED_DATA_DIR": "/Users/md705/Library/Application Support/Code/CachedData/ae08d5460b5a45169385ff3fd44208f431992451",
        "VSCODE_PID": "55424",
        "XPC_FLAGS": "0x0",
        "XPC_SERVICE_NAME": "0",
        "_": "/Users/md705/anaconda3/envs/sympy/bin/python",
        "_CONDA_PYTHON_SYSCONFIGDATA_NAME": "_sysconfigdata_x86_64_apple_darwin13_4_0",
        "__CF_USER_TEXT_ENCODING": "0x1F5:0x2:0x35"
      },
      "language": "python",
      "metadata": {
        "interpreter": {
          "__store": true,
          "architecture": 3,
          "cachedEntry": true,
          "companyDisplayName": "Anaconda, Inc.",
          "displayName": "Python 3.7.3 64-bit ('sympy': conda)",
          "envName": "sympy",
          "envPath": "/Users/md705/anaconda3/envs/sympy",
          "fileHash": "ed697bdbd619c107ddb822e71fd84649a918eaf0706555520996070a8bb57e136e494cd3a7eb02e132719f64a0cd255db5981de4243ec23c491be4e3b5f3ffdc",
          "path": "/Users/md705/anaconda3/envs/sympy/bin/python",
          "sysPrefix": "/Users/md705/anaconda3/envs/sympy",
          "type": "Conda",
          "version": {
            "build": [],
            "loose": false,
            "major": 3,
            "minor": 7,
            "options": {
              "includePrerelease": false,
              "loose": false
            },
            "patch": 3,
            "prerelease": [
              "final"
            ],
            "raw": "3.7.3-final",
            "version": "3.7.3-final"
          }
        }
      },
      "name": "python37364bitsympyconda45abf14132e64f55a2b5804edde4e9fe"
    },
    "language_info": {
      "codemirror_mode": {
        "name": "ipython",
        "version": 3
      },
      "file_extension": ".py",
      "mimetype": "text/x-python",
      "name": "python",
      "nbconvert_exporter": "python",
      "pygments_lexer": "ipython3",
      "version": "3.7.3"
    },
    "nteract": {
      "version": "0.21.0"
    }
  },
  "nbformat": 4,
  "nbformat_minor": 0
}
