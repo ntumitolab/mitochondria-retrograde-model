{
 "cells": [
  {
   "cell_type": "markdown",
   "metadata": {},
   "source": [
    "# Single Cell RNA Seq data\n",
    "\n",
    "## Conlsusion\n",
    "-  The expression level of CIT2 changed significently (p-value=0.13). Therefore, the analysis implies that the stress turns on the retrograde response.\n",
    "- BMH has highes expression level among the RTG genes, which locates in $10^{3}$\n",
    "- RTG1 has the lowese expression level. Our RTG model needs further verification becuase we assume the expression level of RTG1 is much larger than others.\n",
    "\n",
    "## Reference\n",
    "- Single-cell RNA sequencing reveals intrinsic and extrinsic regulatory heterogeneity in yeast responding to stress. [[link](https://journals.plos.org/plosbiology/article?id=10.1371/journal.pbio.2004050)]\n",
    "- D3E : Discrete distributional differential expression (D3E) - a tool for gene expression analysis of single-cell RNA-seq data. [[link](https://bmcbioinformatics.biomedcentral.com/articles/10.1186/s12859-016-0944-6)]"
   ]
  },
  {
   "cell_type": "markdown",
   "metadata": {},
   "source": [
    "## Plotting Single Cell RNA Data\n",
    "\n",
    "### Method\n",
    "- Original data is separated into \"Stressed\" and \"Unstressed\"\n",
    "- Applied D3E tool to Seq data\n",
    "\n",
    "### Conclusion\n",
    "- Dropout event inferences the correlation analysis\n",
    "- Reqiure Single cell analysis tool\n",
    "    - D3E \n",
    "    - [Summary of SC-Seq tool until 2018](https://bmcbioinformatics.biomedcentral.com/articles/10.1186/s12859-019-2599-6/tables/1)"
   ]
  },
  {
   "cell_type": "code",
   "execution_count": null,
   "metadata": {},
   "outputs": [],
   "source": [
    "import os\n",
    "os.listdir(\"data/\")"
   ]
  },
  {
   "cell_type": "code",
   "execution_count": null,
   "metadata": {},
   "outputs": [],
   "source": [
    "# Access original xlsx file\n",
    "import seaborn as sns\n",
    "import pandas as pd\n",
    "import matplotlib.pyplot as plt\n",
    "\n",
    "# Alias of gene names\n",
    "alias = {\n",
    "    \"RTG1\": \"YOL067C\",\n",
    "    \"RTG2\": \"YGL252C\",\n",
    "    \"RTG3\": \"YBL103C\",\n",
    "    \"BMH1\": \"YER177W\",\n",
    "    \"MKS1\": \"YNL076W\",\n",
    "    \"CIT2\": \"YCR005C\"\n",
    "}\n",
    "\n",
    "# Read original Single-cell seq data\n",
    "data = \"data/SingleCellRNAseq_yeast_GSE102475_LabelSep.txt\"\n",
    "df = pd.read_table(data)\n",
    "\n",
    "dft = df.set_index(\"GeneID\")\n",
    "dft = dft.transpose()\n",
    "dft = dft.filter(items= list(alias.values()))\n",
    "dft.columns = list(alias.keys())\n",
    "\n",
    "label = []\n",
    "conds = [\"Stressed\", \"Unstressed\"] # Two conditions \n",
    "for i in dft.index.values:\n",
    "    for cond in conds:\n",
    "        if cond in i:\n",
    "            label.append(cond)\n",
    "dft[\"condition\"] = label\n"
   ]
  },
  {
   "cell_type": "code",
   "execution_count": null,
   "metadata": {},
   "outputs": [],
   "source": [
    "sns.pairplot(dft, hue=\"condition\", kind=\"scatter\" )"
   ]
  },
  {
   "cell_type": "code",
   "execution_count": null,
   "metadata": {},
   "outputs": [],
   "source": [
    "sns_plot = sns.pairplot(dft, hue=\"condition\", kind=\"reg\")\n",
    "sns_plot.savefig(\"img/rna_pairPlot.pdf\")"
   ]
  },
  {
   "cell_type": "code",
   "execution_count": null,
   "metadata": {},
   "outputs": [],
   "source": [
    "# Show dropout events\n",
    "dft.drop( [\"condition\"], axis=1)"
   ]
  },
  {
   "cell_type": "markdown",
   "metadata": {},
   "source": [
    "# D3E: Single-cell seq data analysis\n",
    "\n",
    "<img src=\"https://media.springernature.com/lw685/springer-static/image/art%3A10.1186%2Fs12859-016-0944-6/MediaObjects/12859_2016_944_Fig1_HTML.gif?as=webp\">\n",
    "\n",
    "*Transcriptional bursting model*\n",
    "\n",
    "Sequencing data is analysed by D3E tool ([github](https://github.com/hemberg-lab/D3E))\n",
    "\n",
    "[The results](data/SingelCellRNAseq_yeast_GSE102475_LabelSep.out) are derived by the following bash command:\n",
    "\n",
    "```sh\n",
    "python D3ECmd.py SingelCellRNAseq_yeast_GSE102475_LabelSep.txt  SingelCellRNAseq_yeast_GSE102475_LabelSep.out  Stressed Unstressed -m 1 -t 0 -z 0 -n 1 -v \n",
    "```"
   ]
  },
  {
   "cell_type": "code",
   "execution_count": null,
   "metadata": {},
   "outputs": [],
   "source": [
    "# Read analysis\n",
    "import pandas as pd\n",
    "d3e = pd.read_table(\"data/SingleCellRNAseq_yeast_GSE102475_LabelSep.out\")\n",
    "d3e = d3e.set_index(\"#GeneID\")\n",
    "d3eT = d3e.transpose()\n",
    "# Display\n",
    "f = d3eT.filter( list(alias.values()), axis=1)\n",
    "f.columns = list(alias.keys())\n",
    "f"
   ]
  },
  {
   "cell_type": "code",
   "execution_count": null,
   "metadata": {},
   "outputs": [],
   "source": [
    "# Save results\n",
    "d3e.to_csv(\"data/d3e_SC_seq_resp.csv\")\n",
    "f.to_csv(\"data/d3e_SC_resp_RtgGenes.csv\")"
   ]
  },
  {
   "cell_type": "markdown",
   "metadata": {},
   "source": [
    "### Mean and Std are not simply the calculation of read-count table"
   ]
  },
  {
   "cell_type": "code",
   "execution_count": null,
   "metadata": {},
   "outputs": [],
   "source": [
    "\"\"\"\n",
    "Show that the mean value and std of d3e result are not simply the mean and std of read-count table\n",
    "\"\"\"\n",
    "import numpy as np\n",
    "\n",
    "# Set a gene\n",
    "GeneName = \"RTG3\"\n",
    "\n",
    "# Retrieve data\n",
    "s = df[df[\"GeneID\"] == alias[GeneName]].transpose()\n",
    "d = s.to_dict()\n",
    "key = list(d.keys())[0]\n",
    "val = list(d[key].values())\n",
    "del val[0]\n",
    "val = np.array(val)\n",
    "\n",
    "\n",
    "# Cal mean and cv\n",
    "mean = np.mean(val[val!=0.0])\n",
    "cv = np.std(val[val!=0.0])\n",
    "\n",
    "# Print\n",
    "print(\"TABLE CALCULATION\")\n",
    "print(\"MEAN: {}(Table)/\\t {}(mu1)/\\t {}(mu2)\".format(mean, f[GeneName][\"mu1\"], f[GeneName][\"mu2\"]))\n",
    "print(\"STD: {}(Table)/\\t {}(cv1)/\\t {}(cv2)\".format(cv,f[GeneName][\"cv1\"],f[GeneName][\"cv2\"]))"
   ]
  },
  {
   "cell_type": "markdown",
   "metadata": {},
   "source": [
    "# Plotting D3E results"
   ]
  },
  {
   "cell_type": "code",
   "execution_count": null,
   "metadata": {},
   "outputs": [],
   "source": [
    "import pandas as pd\n",
    "d3e = pd.read_csv(\"data/d3e_SC_resp_RtgGenes.csv\", index_col=0)\n",
    "d3e"
   ]
  },
  {
   "cell_type": "code",
   "execution_count": null,
   "metadata": {},
   "outputs": [],
   "source": [
    "import matplotlib\n",
    "import matplotlib.pyplot as plt\n",
    "import numpy as np\n",
    "\n",
    "# DATA\n",
    "st_means, st_std = d3e[d3e.index == \"mu1\"].values, d3e[d3e.index == \"cv1\"].values\n",
    "ust_means, ust_std = d3e[d3e.index == \"mu2\"].values, d3e[d3e.index == \"cv2\"].values\n",
    "\n",
    "pvalues = d3e[d3e.index == \"p-value\"].values\n",
    "name_of_genes = list(d3e.keys())\n",
    "\n",
    "# SETTING\n",
    "st_means, st_std, ust_means, ust_std, pvalues = st_means.flatten(), st_std.flatten(), ust_means.flatten(), ust_std.flatten(), pvalues.flatten()\n",
    "\n",
    "ind = np.arange(len(st_means))  # the x locations for the groups\n",
    "width = 0.35  # the width of the bars\n",
    "\n",
    "## Add p value\n",
    "name_p = [ name + \"\\n(p-value:{0:.2f})\".format(p) for name, p in zip(name_of_genes, pvalues )]\n",
    "name_of_genes = name_p\n",
    "\n",
    "# PLOTTING\n",
    "fig, ax = plt.subplots(figsize=(10,7))\n",
    "rects1 = ax.bar(ind - width/2, st_means, width, yerr=st_std,\n",
    "                label='Stressed')\n",
    "rects2 = ax.bar(ind + width/2, ust_means, width, yerr=ust_std,\n",
    "                label='Unstressed')\n",
    "\n",
    "## Add some text for labels, title and custom x-axis tick labels, etc.\n",
    "ax.set_ylabel('Expression Level (normalized)')\n",
    "ax.set_title('Stressed response of RTG gnes')\n",
    "ax.set_xticks(ind)\n",
    "ax.set_xticklabels( name_of_genes)\n",
    "ax.legend()\n",
    "\n",
    "\n",
    "def autolabel(rects, xpos='center'):\n",
    "    \"\"\"\n",
    "    Attach a text label above each bar in *rects*, displaying its height.\n",
    "\n",
    "    *xpos* indicates which side to place the text w.r.t. the center of\n",
    "    the bar. It can be one of the following {'center', 'right', 'left'}.\n",
    "    \"\"\"\n",
    "\n",
    "    ha = {'center': 'center', 'right': 'left', 'left': 'right'}\n",
    "    offset = {'center': 0, 'right': 1, 'left': -1}\n",
    "\n",
    "    for rect in rects:\n",
    "        height = rect.get_height()\n",
    "        ax.annotate('{}'.format(height),\n",
    "                    xy=(rect.get_x() + rect.get_width() / 2, height),\n",
    "                    xytext=(offset[xpos]*3, 3),  # use 3 points offset\n",
    "                    textcoords=\"offset points\",  # in both directions\n",
    "                    ha=ha[xpos], va='bottom', color=\"black\")\n",
    "\n",
    "\n",
    "autolabel(rects1, \"left\")\n",
    "autolabel(rects2, \"right\")\n",
    "\n",
    "\n",
    "\n",
    "\n",
    "\n",
    "fig.tight_layout()\n",
    "plt.yscale(\"log\")\n",
    "plt.show()\n",
    "\n",
    "fig.savefig(\"img/stressed_response_mean.pdf\")\n",
    "fig.savefig(\"img/stressed_response_mean.png\", dpi=100)"
   ]
  },
  {
   "cell_type": "code",
   "execution_count": null,
   "metadata": {},
   "outputs": [],
   "source": []
  }
 ],
 "metadata": {
  "kernel_info": {
   "name": "keras"
  },
  "kernelspec": {
   "display_name": "py37",
   "language": "python",
   "name": "py37"
  },
  "language_info": {
   "codemirror_mode": {
    "name": "ipython",
    "version": 3
   },
   "file_extension": ".py",
   "mimetype": "text/x-python",
   "name": "python",
   "nbconvert_exporter": "python",
   "pygments_lexer": "ipython3",
   "version": "3.7.7"
  },
  "nteract": {
   "version": "0.15.0"
  }
 },
 "nbformat": 4,
 "nbformat_minor": 2
}
